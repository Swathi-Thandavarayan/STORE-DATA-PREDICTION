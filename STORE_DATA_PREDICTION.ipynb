{
  "nbformat": 4,
  "nbformat_minor": 0,
  "metadata": {
    "colab": {
      "provenance": [],
      "toc_visible": true,
      "mount_file_id": "1UhtqE09f9lZHUycGLRfiqpPq6AeMJh7f",
      "authorship_tag": "ABX9TyMlZVSpgimwXk51UtoJISyS",
      "include_colab_link": true
    },
    "kernelspec": {
      "name": "python3",
      "display_name": "Python 3"
    },
    "language_info": {
      "name": "python"
    }
  },
  "cells": [
    {
      "cell_type": "markdown",
      "metadata": {
        "id": "view-in-github",
        "colab_type": "text"
      },
      "source": [
        "<a href=\"https://colab.research.google.com/github/Swathi-Thandavarayan/STORE-DATA-PREDICTION/blob/main/STORE_DATA_PREDICTION.ipynb\" target=\"_parent\"><img src=\"https://colab.research.google.com/assets/colab-badge.svg\" alt=\"Open In Colab\"/></a>"
      ]
    },
    {
      "cell_type": "markdown",
      "source": [
        "Predict the department-wide sales for each store for the following year.\n",
        "\n",
        "Model the effects of markdowns on holiday weeks.\n",
        "\n",
        "Provide recommended actions based on the insights drawn, with prioritisation placed on largest business impact\n"
      ],
      "metadata": {
        "id": "o4FJI6Ui_sOj"
      }
    },
    {
      "cell_type": "code",
      "execution_count": 1,
      "metadata": {
        "id": "8VJ8kyPL5zin"
      },
      "outputs": [],
      "source": [
        "import pandas as pd\n",
        "import matplotlib.pyplot as plt"
      ]
    },
    {
      "cell_type": "markdown",
      "source": [
        "#DATA IMPORT"
      ],
      "metadata": {
        "id": "Z1V0LalK8SGD"
      }
    },
    {
      "cell_type": "code",
      "source": [
        "path1 = '/content/Features_data_set.csv'\n",
        "path2 = '/content/sales_data_set.csv'\n",
        "path3 = '/content/stores_data_set.csv'\n",
        "data_feature = pd.read_csv(path1)\n",
        "data_sales = pd.read_csv(path2)\n",
        "data_stores = pd.read_csv(path3)"
      ],
      "metadata": {
        "collapsed": true,
        "id": "xyHZdL_m6rX_"
      },
      "execution_count": 2,
      "outputs": []
    },
    {
      "cell_type": "code",
      "source": [
        "data_feature.head()"
      ],
      "metadata": {
        "id": "2w0wrX5Y6-Tj",
        "colab": {
          "base_uri": "https://localhost:8080/",
          "height": 226
        },
        "outputId": "a003ad68-c95c-4730-8188-c4f28b44acb3"
      },
      "execution_count": 3,
      "outputs": [
        {
          "output_type": "execute_result",
          "data": {
            "text/plain": [
              "   Store        Date  Temperature  Fuel_Price  MarkDown1  MarkDown2  \\\n",
              "0      1  05/02/2010        42.31       2.572        NaN        NaN   \n",
              "1      1  12/02/2010        38.51       2.548        NaN        NaN   \n",
              "2      1  19/02/2010        39.93       2.514        NaN        NaN   \n",
              "3      1  26/02/2010        46.63       2.561        NaN        NaN   \n",
              "4      1  05/03/2010        46.50       2.625        NaN        NaN   \n",
              "\n",
              "   MarkDown3  MarkDown4  MarkDown5         CPI  Unemployment  IsHoliday  \n",
              "0        NaN        NaN        NaN  211.096358         8.106      False  \n",
              "1        NaN        NaN        NaN  211.242170         8.106       True  \n",
              "2        NaN        NaN        NaN  211.289143         8.106      False  \n",
              "3        NaN        NaN        NaN  211.319643         8.106      False  \n",
              "4        NaN        NaN        NaN  211.350143         8.106      False  "
            ],
            "text/html": [
              "\n",
              "  <div id=\"df-d4c30129-8b0d-48ba-ab54-84b0214ea431\" class=\"colab-df-container\">\n",
              "    <div>\n",
              "<style scoped>\n",
              "    .dataframe tbody tr th:only-of-type {\n",
              "        vertical-align: middle;\n",
              "    }\n",
              "\n",
              "    .dataframe tbody tr th {\n",
              "        vertical-align: top;\n",
              "    }\n",
              "\n",
              "    .dataframe thead th {\n",
              "        text-align: right;\n",
              "    }\n",
              "</style>\n",
              "<table border=\"1\" class=\"dataframe\">\n",
              "  <thead>\n",
              "    <tr style=\"text-align: right;\">\n",
              "      <th></th>\n",
              "      <th>Store</th>\n",
              "      <th>Date</th>\n",
              "      <th>Temperature</th>\n",
              "      <th>Fuel_Price</th>\n",
              "      <th>MarkDown1</th>\n",
              "      <th>MarkDown2</th>\n",
              "      <th>MarkDown3</th>\n",
              "      <th>MarkDown4</th>\n",
              "      <th>MarkDown5</th>\n",
              "      <th>CPI</th>\n",
              "      <th>Unemployment</th>\n",
              "      <th>IsHoliday</th>\n",
              "    </tr>\n",
              "  </thead>\n",
              "  <tbody>\n",
              "    <tr>\n",
              "      <th>0</th>\n",
              "      <td>1</td>\n",
              "      <td>05/02/2010</td>\n",
              "      <td>42.31</td>\n",
              "      <td>2.572</td>\n",
              "      <td>NaN</td>\n",
              "      <td>NaN</td>\n",
              "      <td>NaN</td>\n",
              "      <td>NaN</td>\n",
              "      <td>NaN</td>\n",
              "      <td>211.096358</td>\n",
              "      <td>8.106</td>\n",
              "      <td>False</td>\n",
              "    </tr>\n",
              "    <tr>\n",
              "      <th>1</th>\n",
              "      <td>1</td>\n",
              "      <td>12/02/2010</td>\n",
              "      <td>38.51</td>\n",
              "      <td>2.548</td>\n",
              "      <td>NaN</td>\n",
              "      <td>NaN</td>\n",
              "      <td>NaN</td>\n",
              "      <td>NaN</td>\n",
              "      <td>NaN</td>\n",
              "      <td>211.242170</td>\n",
              "      <td>8.106</td>\n",
              "      <td>True</td>\n",
              "    </tr>\n",
              "    <tr>\n",
              "      <th>2</th>\n",
              "      <td>1</td>\n",
              "      <td>19/02/2010</td>\n",
              "      <td>39.93</td>\n",
              "      <td>2.514</td>\n",
              "      <td>NaN</td>\n",
              "      <td>NaN</td>\n",
              "      <td>NaN</td>\n",
              "      <td>NaN</td>\n",
              "      <td>NaN</td>\n",
              "      <td>211.289143</td>\n",
              "      <td>8.106</td>\n",
              "      <td>False</td>\n",
              "    </tr>\n",
              "    <tr>\n",
              "      <th>3</th>\n",
              "      <td>1</td>\n",
              "      <td>26/02/2010</td>\n",
              "      <td>46.63</td>\n",
              "      <td>2.561</td>\n",
              "      <td>NaN</td>\n",
              "      <td>NaN</td>\n",
              "      <td>NaN</td>\n",
              "      <td>NaN</td>\n",
              "      <td>NaN</td>\n",
              "      <td>211.319643</td>\n",
              "      <td>8.106</td>\n",
              "      <td>False</td>\n",
              "    </tr>\n",
              "    <tr>\n",
              "      <th>4</th>\n",
              "      <td>1</td>\n",
              "      <td>05/03/2010</td>\n",
              "      <td>46.50</td>\n",
              "      <td>2.625</td>\n",
              "      <td>NaN</td>\n",
              "      <td>NaN</td>\n",
              "      <td>NaN</td>\n",
              "      <td>NaN</td>\n",
              "      <td>NaN</td>\n",
              "      <td>211.350143</td>\n",
              "      <td>8.106</td>\n",
              "      <td>False</td>\n",
              "    </tr>\n",
              "  </tbody>\n",
              "</table>\n",
              "</div>\n",
              "    <div class=\"colab-df-buttons\">\n",
              "\n",
              "  <div class=\"colab-df-container\">\n",
              "    <button class=\"colab-df-convert\" onclick=\"convertToInteractive('df-d4c30129-8b0d-48ba-ab54-84b0214ea431')\"\n",
              "            title=\"Convert this dataframe to an interactive table.\"\n",
              "            style=\"display:none;\">\n",
              "\n",
              "  <svg xmlns=\"http://www.w3.org/2000/svg\" height=\"24px\" viewBox=\"0 -960 960 960\">\n",
              "    <path d=\"M120-120v-720h720v720H120Zm60-500h600v-160H180v160Zm220 220h160v-160H400v160Zm0 220h160v-160H400v160ZM180-400h160v-160H180v160Zm440 0h160v-160H620v160ZM180-180h160v-160H180v160Zm440 0h160v-160H620v160Z\"/>\n",
              "  </svg>\n",
              "    </button>\n",
              "\n",
              "  <style>\n",
              "    .colab-df-container {\n",
              "      display:flex;\n",
              "      gap: 12px;\n",
              "    }\n",
              "\n",
              "    .colab-df-convert {\n",
              "      background-color: #E8F0FE;\n",
              "      border: none;\n",
              "      border-radius: 50%;\n",
              "      cursor: pointer;\n",
              "      display: none;\n",
              "      fill: #1967D2;\n",
              "      height: 32px;\n",
              "      padding: 0 0 0 0;\n",
              "      width: 32px;\n",
              "    }\n",
              "\n",
              "    .colab-df-convert:hover {\n",
              "      background-color: #E2EBFA;\n",
              "      box-shadow: 0px 1px 2px rgba(60, 64, 67, 0.3), 0px 1px 3px 1px rgba(60, 64, 67, 0.15);\n",
              "      fill: #174EA6;\n",
              "    }\n",
              "\n",
              "    .colab-df-buttons div {\n",
              "      margin-bottom: 4px;\n",
              "    }\n",
              "\n",
              "    [theme=dark] .colab-df-convert {\n",
              "      background-color: #3B4455;\n",
              "      fill: #D2E3FC;\n",
              "    }\n",
              "\n",
              "    [theme=dark] .colab-df-convert:hover {\n",
              "      background-color: #434B5C;\n",
              "      box-shadow: 0px 1px 3px 1px rgba(0, 0, 0, 0.15);\n",
              "      filter: drop-shadow(0px 1px 2px rgba(0, 0, 0, 0.3));\n",
              "      fill: #FFFFFF;\n",
              "    }\n",
              "  </style>\n",
              "\n",
              "    <script>\n",
              "      const buttonEl =\n",
              "        document.querySelector('#df-d4c30129-8b0d-48ba-ab54-84b0214ea431 button.colab-df-convert');\n",
              "      buttonEl.style.display =\n",
              "        google.colab.kernel.accessAllowed ? 'block' : 'none';\n",
              "\n",
              "      async function convertToInteractive(key) {\n",
              "        const element = document.querySelector('#df-d4c30129-8b0d-48ba-ab54-84b0214ea431');\n",
              "        const dataTable =\n",
              "          await google.colab.kernel.invokeFunction('convertToInteractive',\n",
              "                                                    [key], {});\n",
              "        if (!dataTable) return;\n",
              "\n",
              "        const docLinkHtml = 'Like what you see? Visit the ' +\n",
              "          '<a target=\"_blank\" href=https://colab.research.google.com/notebooks/data_table.ipynb>data table notebook</a>'\n",
              "          + ' to learn more about interactive tables.';\n",
              "        element.innerHTML = '';\n",
              "        dataTable['output_type'] = 'display_data';\n",
              "        await google.colab.output.renderOutput(dataTable, element);\n",
              "        const docLink = document.createElement('div');\n",
              "        docLink.innerHTML = docLinkHtml;\n",
              "        element.appendChild(docLink);\n",
              "      }\n",
              "    </script>\n",
              "  </div>\n",
              "\n",
              "\n",
              "<div id=\"df-10ddef61-f71a-4575-8929-7ac6f1cb038b\">\n",
              "  <button class=\"colab-df-quickchart\" onclick=\"quickchart('df-10ddef61-f71a-4575-8929-7ac6f1cb038b')\"\n",
              "            title=\"Suggest charts\"\n",
              "            style=\"display:none;\">\n",
              "\n",
              "<svg xmlns=\"http://www.w3.org/2000/svg\" height=\"24px\"viewBox=\"0 0 24 24\"\n",
              "     width=\"24px\">\n",
              "    <g>\n",
              "        <path d=\"M19 3H5c-1.1 0-2 .9-2 2v14c0 1.1.9 2 2 2h14c1.1 0 2-.9 2-2V5c0-1.1-.9-2-2-2zM9 17H7v-7h2v7zm4 0h-2V7h2v10zm4 0h-2v-4h2v4z\"/>\n",
              "    </g>\n",
              "</svg>\n",
              "  </button>\n",
              "\n",
              "<style>\n",
              "  .colab-df-quickchart {\n",
              "      --bg-color: #E8F0FE;\n",
              "      --fill-color: #1967D2;\n",
              "      --hover-bg-color: #E2EBFA;\n",
              "      --hover-fill-color: #174EA6;\n",
              "      --disabled-fill-color: #AAA;\n",
              "      --disabled-bg-color: #DDD;\n",
              "  }\n",
              "\n",
              "  [theme=dark] .colab-df-quickchart {\n",
              "      --bg-color: #3B4455;\n",
              "      --fill-color: #D2E3FC;\n",
              "      --hover-bg-color: #434B5C;\n",
              "      --hover-fill-color: #FFFFFF;\n",
              "      --disabled-bg-color: #3B4455;\n",
              "      --disabled-fill-color: #666;\n",
              "  }\n",
              "\n",
              "  .colab-df-quickchart {\n",
              "    background-color: var(--bg-color);\n",
              "    border: none;\n",
              "    border-radius: 50%;\n",
              "    cursor: pointer;\n",
              "    display: none;\n",
              "    fill: var(--fill-color);\n",
              "    height: 32px;\n",
              "    padding: 0;\n",
              "    width: 32px;\n",
              "  }\n",
              "\n",
              "  .colab-df-quickchart:hover {\n",
              "    background-color: var(--hover-bg-color);\n",
              "    box-shadow: 0 1px 2px rgba(60, 64, 67, 0.3), 0 1px 3px 1px rgba(60, 64, 67, 0.15);\n",
              "    fill: var(--button-hover-fill-color);\n",
              "  }\n",
              "\n",
              "  .colab-df-quickchart-complete:disabled,\n",
              "  .colab-df-quickchart-complete:disabled:hover {\n",
              "    background-color: var(--disabled-bg-color);\n",
              "    fill: var(--disabled-fill-color);\n",
              "    box-shadow: none;\n",
              "  }\n",
              "\n",
              "  .colab-df-spinner {\n",
              "    border: 2px solid var(--fill-color);\n",
              "    border-color: transparent;\n",
              "    border-bottom-color: var(--fill-color);\n",
              "    animation:\n",
              "      spin 1s steps(1) infinite;\n",
              "  }\n",
              "\n",
              "  @keyframes spin {\n",
              "    0% {\n",
              "      border-color: transparent;\n",
              "      border-bottom-color: var(--fill-color);\n",
              "      border-left-color: var(--fill-color);\n",
              "    }\n",
              "    20% {\n",
              "      border-color: transparent;\n",
              "      border-left-color: var(--fill-color);\n",
              "      border-top-color: var(--fill-color);\n",
              "    }\n",
              "    30% {\n",
              "      border-color: transparent;\n",
              "      border-left-color: var(--fill-color);\n",
              "      border-top-color: var(--fill-color);\n",
              "      border-right-color: var(--fill-color);\n",
              "    }\n",
              "    40% {\n",
              "      border-color: transparent;\n",
              "      border-right-color: var(--fill-color);\n",
              "      border-top-color: var(--fill-color);\n",
              "    }\n",
              "    60% {\n",
              "      border-color: transparent;\n",
              "      border-right-color: var(--fill-color);\n",
              "    }\n",
              "    80% {\n",
              "      border-color: transparent;\n",
              "      border-right-color: var(--fill-color);\n",
              "      border-bottom-color: var(--fill-color);\n",
              "    }\n",
              "    90% {\n",
              "      border-color: transparent;\n",
              "      border-bottom-color: var(--fill-color);\n",
              "    }\n",
              "  }\n",
              "</style>\n",
              "\n",
              "  <script>\n",
              "    async function quickchart(key) {\n",
              "      const quickchartButtonEl =\n",
              "        document.querySelector('#' + key + ' button');\n",
              "      quickchartButtonEl.disabled = true;  // To prevent multiple clicks.\n",
              "      quickchartButtonEl.classList.add('colab-df-spinner');\n",
              "      try {\n",
              "        const charts = await google.colab.kernel.invokeFunction(\n",
              "            'suggestCharts', [key], {});\n",
              "      } catch (error) {\n",
              "        console.error('Error during call to suggestCharts:', error);\n",
              "      }\n",
              "      quickchartButtonEl.classList.remove('colab-df-spinner');\n",
              "      quickchartButtonEl.classList.add('colab-df-quickchart-complete');\n",
              "    }\n",
              "    (() => {\n",
              "      let quickchartButtonEl =\n",
              "        document.querySelector('#df-10ddef61-f71a-4575-8929-7ac6f1cb038b button');\n",
              "      quickchartButtonEl.style.display =\n",
              "        google.colab.kernel.accessAllowed ? 'block' : 'none';\n",
              "    })();\n",
              "  </script>\n",
              "</div>\n",
              "\n",
              "    </div>\n",
              "  </div>\n"
            ],
            "application/vnd.google.colaboratory.intrinsic+json": {
              "type": "dataframe",
              "variable_name": "data_feature",
              "summary": "{\n  \"name\": \"data_feature\",\n  \"rows\": 8190,\n  \"fields\": [\n    {\n      \"column\": \"Store\",\n      \"properties\": {\n        \"dtype\": \"number\",\n        \"std\": 12,\n        \"min\": 1,\n        \"max\": 45,\n        \"num_unique_values\": 45,\n        \"samples\": [\n          40,\n          26,\n          27\n        ],\n        \"semantic_type\": \"\",\n        \"description\": \"\"\n      }\n    },\n    {\n      \"column\": \"Date\",\n      \"properties\": {\n        \"dtype\": \"category\",\n        \"num_unique_values\": 182,\n        \"samples\": [\n          \"18/06/2010\",\n          \"26/11/2010\",\n          \"18/01/2013\"\n        ],\n        \"semantic_type\": \"\",\n        \"description\": \"\"\n      }\n    },\n    {\n      \"column\": \"Temperature\",\n      \"properties\": {\n        \"dtype\": \"number\",\n        \"std\": 18.67860684890715,\n        \"min\": -7.29,\n        \"max\": 101.95,\n        \"num_unique_values\": 4178,\n        \"samples\": [\n          83.8,\n          31.48,\n          79.14\n        ],\n        \"semantic_type\": \"\",\n        \"description\": \"\"\n      }\n    },\n    {\n      \"column\": \"Fuel_Price\",\n      \"properties\": {\n        \"dtype\": \"number\",\n        \"std\": 0.43133657110071344,\n        \"min\": 2.472,\n        \"max\": 4.468,\n        \"num_unique_values\": 1011,\n        \"samples\": [\n          2.782,\n          2.936,\n          3.282\n        ],\n        \"semantic_type\": \"\",\n        \"description\": \"\"\n      }\n    },\n    {\n      \"column\": \"MarkDown1\",\n      \"properties\": {\n        \"dtype\": \"number\",\n        \"std\": 9262.74744752368,\n        \"min\": -2781.45,\n        \"max\": 103184.98,\n        \"num_unique_values\": 4023,\n        \"samples\": [\n          9273.46,\n          7024.93,\n          8569.82\n        ],\n        \"semantic_type\": \"\",\n        \"description\": \"\"\n      }\n    },\n    {\n      \"column\": \"MarkDown2\",\n      \"properties\": {\n        \"dtype\": \"number\",\n        \"std\": 8793.58301550764,\n        \"min\": -265.76,\n        \"max\": 104519.54,\n        \"num_unique_values\": 2715,\n        \"samples\": [\n          252.8,\n          2675.46,\n          2347.13\n        ],\n        \"semantic_type\": \"\",\n        \"description\": \"\"\n      }\n    },\n    {\n      \"column\": \"MarkDown3\",\n      \"properties\": {\n        \"dtype\": \"number\",\n        \"std\": 11276.462208022936,\n        \"min\": -179.26,\n        \"max\": 149483.31,\n        \"num_unique_values\": 2885,\n        \"samples\": [\n          7.35,\n          182.74,\n          163.27\n        ],\n        \"semantic_type\": \"\",\n        \"description\": \"\"\n      }\n    },\n    {\n      \"column\": \"MarkDown4\",\n      \"properties\": {\n        \"dtype\": \"number\",\n        \"std\": 6792.329861347649,\n        \"min\": 0.22,\n        \"max\": 67474.85,\n        \"num_unique_values\": 3405,\n        \"samples\": [\n          113.37,\n          1270.8,\n          24079.57\n        ],\n        \"semantic_type\": \"\",\n        \"description\": \"\"\n      }\n    },\n    {\n      \"column\": \"MarkDown5\",\n      \"properties\": {\n        \"dtype\": \"number\",\n        \"std\": 13086.690278200194,\n        \"min\": -185.17,\n        \"max\": 771448.1,\n        \"num_unique_values\": 4045,\n        \"samples\": [\n          3666.08,\n          3479.8,\n          4958.33\n        ],\n        \"semantic_type\": \"\",\n        \"description\": \"\"\n      }\n    },\n    {\n      \"column\": \"CPI\",\n      \"properties\": {\n        \"dtype\": \"number\",\n        \"std\": 39.73834609860848,\n        \"min\": 126.064,\n        \"max\": 228.9764563,\n        \"num_unique_values\": 2505,\n        \"samples\": [\n          139.1226129,\n          216.0282356,\n          210.0451024\n        ],\n        \"semantic_type\": \"\",\n        \"description\": \"\"\n      }\n    },\n    {\n      \"column\": \"Unemployment\",\n      \"properties\": {\n        \"dtype\": \"number\",\n        \"std\": 1.8772585939174304,\n        \"min\": 3.684,\n        \"max\": 14.313,\n        \"num_unique_values\": 404,\n        \"samples\": [\n          7.259,\n          5.213,\n          6.901\n        ],\n        \"semantic_type\": \"\",\n        \"description\": \"\"\n      }\n    },\n    {\n      \"column\": \"IsHoliday\",\n      \"properties\": {\n        \"dtype\": \"boolean\",\n        \"num_unique_values\": 2,\n        \"samples\": [\n          true,\n          false\n        ],\n        \"semantic_type\": \"\",\n        \"description\": \"\"\n      }\n    }\n  ]\n}"
            }
          },
          "metadata": {},
          "execution_count": 3
        }
      ]
    },
    {
      "cell_type": "code",
      "source": [
        "data_feature.info()"
      ],
      "metadata": {
        "colab": {
          "base_uri": "https://localhost:8080/"
        },
        "id": "eZVh9ktkBAy_",
        "outputId": "b7a970b1-0e4b-45e9-b8a2-9ebb4b3c7e58"
      },
      "execution_count": 4,
      "outputs": [
        {
          "output_type": "stream",
          "name": "stdout",
          "text": [
            "<class 'pandas.core.frame.DataFrame'>\n",
            "RangeIndex: 8190 entries, 0 to 8189\n",
            "Data columns (total 12 columns):\n",
            " #   Column        Non-Null Count  Dtype  \n",
            "---  ------        --------------  -----  \n",
            " 0   Store         8190 non-null   int64  \n",
            " 1   Date          8190 non-null   object \n",
            " 2   Temperature   8190 non-null   float64\n",
            " 3   Fuel_Price    8190 non-null   float64\n",
            " 4   MarkDown1     4032 non-null   float64\n",
            " 5   MarkDown2     2921 non-null   float64\n",
            " 6   MarkDown3     3613 non-null   float64\n",
            " 7   MarkDown4     3464 non-null   float64\n",
            " 8   MarkDown5     4050 non-null   float64\n",
            " 9   CPI           7605 non-null   float64\n",
            " 10  Unemployment  7605 non-null   float64\n",
            " 11  IsHoliday     8190 non-null   bool   \n",
            "dtypes: bool(1), float64(9), int64(1), object(1)\n",
            "memory usage: 712.0+ KB\n"
          ]
        }
      ]
    },
    {
      "cell_type": "code",
      "source": [
        "data_sales.head()"
      ],
      "metadata": {
        "id": "Si6DH0g47Lp7",
        "colab": {
          "base_uri": "https://localhost:8080/",
          "height": 206
        },
        "outputId": "844cae15-8ecc-4f38-e5e5-fd6b34d9e523"
      },
      "execution_count": 5,
      "outputs": [
        {
          "output_type": "execute_result",
          "data": {
            "text/plain": [
              "   Store  Dept        Date  Weekly_Sales IsHoliday\n",
              "0      1     1  05/02/2010      24924.50     False\n",
              "1      1     1  12/02/2010      46039.49      True\n",
              "2      1     1  19/02/2010      41595.55     False\n",
              "3      1     1  26/02/2010      19403.54     False\n",
              "4      1     1  05/03/2010      21827.90     False"
            ],
            "text/html": [
              "\n",
              "  <div id=\"df-386736f3-fb81-42d6-8c34-11911833802a\" class=\"colab-df-container\">\n",
              "    <div>\n",
              "<style scoped>\n",
              "    .dataframe tbody tr th:only-of-type {\n",
              "        vertical-align: middle;\n",
              "    }\n",
              "\n",
              "    .dataframe tbody tr th {\n",
              "        vertical-align: top;\n",
              "    }\n",
              "\n",
              "    .dataframe thead th {\n",
              "        text-align: right;\n",
              "    }\n",
              "</style>\n",
              "<table border=\"1\" class=\"dataframe\">\n",
              "  <thead>\n",
              "    <tr style=\"text-align: right;\">\n",
              "      <th></th>\n",
              "      <th>Store</th>\n",
              "      <th>Dept</th>\n",
              "      <th>Date</th>\n",
              "      <th>Weekly_Sales</th>\n",
              "      <th>IsHoliday</th>\n",
              "    </tr>\n",
              "  </thead>\n",
              "  <tbody>\n",
              "    <tr>\n",
              "      <th>0</th>\n",
              "      <td>1</td>\n",
              "      <td>1</td>\n",
              "      <td>05/02/2010</td>\n",
              "      <td>24924.50</td>\n",
              "      <td>False</td>\n",
              "    </tr>\n",
              "    <tr>\n",
              "      <th>1</th>\n",
              "      <td>1</td>\n",
              "      <td>1</td>\n",
              "      <td>12/02/2010</td>\n",
              "      <td>46039.49</td>\n",
              "      <td>True</td>\n",
              "    </tr>\n",
              "    <tr>\n",
              "      <th>2</th>\n",
              "      <td>1</td>\n",
              "      <td>1</td>\n",
              "      <td>19/02/2010</td>\n",
              "      <td>41595.55</td>\n",
              "      <td>False</td>\n",
              "    </tr>\n",
              "    <tr>\n",
              "      <th>3</th>\n",
              "      <td>1</td>\n",
              "      <td>1</td>\n",
              "      <td>26/02/2010</td>\n",
              "      <td>19403.54</td>\n",
              "      <td>False</td>\n",
              "    </tr>\n",
              "    <tr>\n",
              "      <th>4</th>\n",
              "      <td>1</td>\n",
              "      <td>1</td>\n",
              "      <td>05/03/2010</td>\n",
              "      <td>21827.90</td>\n",
              "      <td>False</td>\n",
              "    </tr>\n",
              "  </tbody>\n",
              "</table>\n",
              "</div>\n",
              "    <div class=\"colab-df-buttons\">\n",
              "\n",
              "  <div class=\"colab-df-container\">\n",
              "    <button class=\"colab-df-convert\" onclick=\"convertToInteractive('df-386736f3-fb81-42d6-8c34-11911833802a')\"\n",
              "            title=\"Convert this dataframe to an interactive table.\"\n",
              "            style=\"display:none;\">\n",
              "\n",
              "  <svg xmlns=\"http://www.w3.org/2000/svg\" height=\"24px\" viewBox=\"0 -960 960 960\">\n",
              "    <path d=\"M120-120v-720h720v720H120Zm60-500h600v-160H180v160Zm220 220h160v-160H400v160Zm0 220h160v-160H400v160ZM180-400h160v-160H180v160Zm440 0h160v-160H620v160ZM180-180h160v-160H180v160Zm440 0h160v-160H620v160Z\"/>\n",
              "  </svg>\n",
              "    </button>\n",
              "\n",
              "  <style>\n",
              "    .colab-df-container {\n",
              "      display:flex;\n",
              "      gap: 12px;\n",
              "    }\n",
              "\n",
              "    .colab-df-convert {\n",
              "      background-color: #E8F0FE;\n",
              "      border: none;\n",
              "      border-radius: 50%;\n",
              "      cursor: pointer;\n",
              "      display: none;\n",
              "      fill: #1967D2;\n",
              "      height: 32px;\n",
              "      padding: 0 0 0 0;\n",
              "      width: 32px;\n",
              "    }\n",
              "\n",
              "    .colab-df-convert:hover {\n",
              "      background-color: #E2EBFA;\n",
              "      box-shadow: 0px 1px 2px rgba(60, 64, 67, 0.3), 0px 1px 3px 1px rgba(60, 64, 67, 0.15);\n",
              "      fill: #174EA6;\n",
              "    }\n",
              "\n",
              "    .colab-df-buttons div {\n",
              "      margin-bottom: 4px;\n",
              "    }\n",
              "\n",
              "    [theme=dark] .colab-df-convert {\n",
              "      background-color: #3B4455;\n",
              "      fill: #D2E3FC;\n",
              "    }\n",
              "\n",
              "    [theme=dark] .colab-df-convert:hover {\n",
              "      background-color: #434B5C;\n",
              "      box-shadow: 0px 1px 3px 1px rgba(0, 0, 0, 0.15);\n",
              "      filter: drop-shadow(0px 1px 2px rgba(0, 0, 0, 0.3));\n",
              "      fill: #FFFFFF;\n",
              "    }\n",
              "  </style>\n",
              "\n",
              "    <script>\n",
              "      const buttonEl =\n",
              "        document.querySelector('#df-386736f3-fb81-42d6-8c34-11911833802a button.colab-df-convert');\n",
              "      buttonEl.style.display =\n",
              "        google.colab.kernel.accessAllowed ? 'block' : 'none';\n",
              "\n",
              "      async function convertToInteractive(key) {\n",
              "        const element = document.querySelector('#df-386736f3-fb81-42d6-8c34-11911833802a');\n",
              "        const dataTable =\n",
              "          await google.colab.kernel.invokeFunction('convertToInteractive',\n",
              "                                                    [key], {});\n",
              "        if (!dataTable) return;\n",
              "\n",
              "        const docLinkHtml = 'Like what you see? Visit the ' +\n",
              "          '<a target=\"_blank\" href=https://colab.research.google.com/notebooks/data_table.ipynb>data table notebook</a>'\n",
              "          + ' to learn more about interactive tables.';\n",
              "        element.innerHTML = '';\n",
              "        dataTable['output_type'] = 'display_data';\n",
              "        await google.colab.output.renderOutput(dataTable, element);\n",
              "        const docLink = document.createElement('div');\n",
              "        docLink.innerHTML = docLinkHtml;\n",
              "        element.appendChild(docLink);\n",
              "      }\n",
              "    </script>\n",
              "  </div>\n",
              "\n",
              "\n",
              "<div id=\"df-eb13ba6c-8078-4a27-ab3e-60d825f8d754\">\n",
              "  <button class=\"colab-df-quickchart\" onclick=\"quickchart('df-eb13ba6c-8078-4a27-ab3e-60d825f8d754')\"\n",
              "            title=\"Suggest charts\"\n",
              "            style=\"display:none;\">\n",
              "\n",
              "<svg xmlns=\"http://www.w3.org/2000/svg\" height=\"24px\"viewBox=\"0 0 24 24\"\n",
              "     width=\"24px\">\n",
              "    <g>\n",
              "        <path d=\"M19 3H5c-1.1 0-2 .9-2 2v14c0 1.1.9 2 2 2h14c1.1 0 2-.9 2-2V5c0-1.1-.9-2-2-2zM9 17H7v-7h2v7zm4 0h-2V7h2v10zm4 0h-2v-4h2v4z\"/>\n",
              "    </g>\n",
              "</svg>\n",
              "  </button>\n",
              "\n",
              "<style>\n",
              "  .colab-df-quickchart {\n",
              "      --bg-color: #E8F0FE;\n",
              "      --fill-color: #1967D2;\n",
              "      --hover-bg-color: #E2EBFA;\n",
              "      --hover-fill-color: #174EA6;\n",
              "      --disabled-fill-color: #AAA;\n",
              "      --disabled-bg-color: #DDD;\n",
              "  }\n",
              "\n",
              "  [theme=dark] .colab-df-quickchart {\n",
              "      --bg-color: #3B4455;\n",
              "      --fill-color: #D2E3FC;\n",
              "      --hover-bg-color: #434B5C;\n",
              "      --hover-fill-color: #FFFFFF;\n",
              "      --disabled-bg-color: #3B4455;\n",
              "      --disabled-fill-color: #666;\n",
              "  }\n",
              "\n",
              "  .colab-df-quickchart {\n",
              "    background-color: var(--bg-color);\n",
              "    border: none;\n",
              "    border-radius: 50%;\n",
              "    cursor: pointer;\n",
              "    display: none;\n",
              "    fill: var(--fill-color);\n",
              "    height: 32px;\n",
              "    padding: 0;\n",
              "    width: 32px;\n",
              "  }\n",
              "\n",
              "  .colab-df-quickchart:hover {\n",
              "    background-color: var(--hover-bg-color);\n",
              "    box-shadow: 0 1px 2px rgba(60, 64, 67, 0.3), 0 1px 3px 1px rgba(60, 64, 67, 0.15);\n",
              "    fill: var(--button-hover-fill-color);\n",
              "  }\n",
              "\n",
              "  .colab-df-quickchart-complete:disabled,\n",
              "  .colab-df-quickchart-complete:disabled:hover {\n",
              "    background-color: var(--disabled-bg-color);\n",
              "    fill: var(--disabled-fill-color);\n",
              "    box-shadow: none;\n",
              "  }\n",
              "\n",
              "  .colab-df-spinner {\n",
              "    border: 2px solid var(--fill-color);\n",
              "    border-color: transparent;\n",
              "    border-bottom-color: var(--fill-color);\n",
              "    animation:\n",
              "      spin 1s steps(1) infinite;\n",
              "  }\n",
              "\n",
              "  @keyframes spin {\n",
              "    0% {\n",
              "      border-color: transparent;\n",
              "      border-bottom-color: var(--fill-color);\n",
              "      border-left-color: var(--fill-color);\n",
              "    }\n",
              "    20% {\n",
              "      border-color: transparent;\n",
              "      border-left-color: var(--fill-color);\n",
              "      border-top-color: var(--fill-color);\n",
              "    }\n",
              "    30% {\n",
              "      border-color: transparent;\n",
              "      border-left-color: var(--fill-color);\n",
              "      border-top-color: var(--fill-color);\n",
              "      border-right-color: var(--fill-color);\n",
              "    }\n",
              "    40% {\n",
              "      border-color: transparent;\n",
              "      border-right-color: var(--fill-color);\n",
              "      border-top-color: var(--fill-color);\n",
              "    }\n",
              "    60% {\n",
              "      border-color: transparent;\n",
              "      border-right-color: var(--fill-color);\n",
              "    }\n",
              "    80% {\n",
              "      border-color: transparent;\n",
              "      border-right-color: var(--fill-color);\n",
              "      border-bottom-color: var(--fill-color);\n",
              "    }\n",
              "    90% {\n",
              "      border-color: transparent;\n",
              "      border-bottom-color: var(--fill-color);\n",
              "    }\n",
              "  }\n",
              "</style>\n",
              "\n",
              "  <script>\n",
              "    async function quickchart(key) {\n",
              "      const quickchartButtonEl =\n",
              "        document.querySelector('#' + key + ' button');\n",
              "      quickchartButtonEl.disabled = true;  // To prevent multiple clicks.\n",
              "      quickchartButtonEl.classList.add('colab-df-spinner');\n",
              "      try {\n",
              "        const charts = await google.colab.kernel.invokeFunction(\n",
              "            'suggestCharts', [key], {});\n",
              "      } catch (error) {\n",
              "        console.error('Error during call to suggestCharts:', error);\n",
              "      }\n",
              "      quickchartButtonEl.classList.remove('colab-df-spinner');\n",
              "      quickchartButtonEl.classList.add('colab-df-quickchart-complete');\n",
              "    }\n",
              "    (() => {\n",
              "      let quickchartButtonEl =\n",
              "        document.querySelector('#df-eb13ba6c-8078-4a27-ab3e-60d825f8d754 button');\n",
              "      quickchartButtonEl.style.display =\n",
              "        google.colab.kernel.accessAllowed ? 'block' : 'none';\n",
              "    })();\n",
              "  </script>\n",
              "</div>\n",
              "\n",
              "    </div>\n",
              "  </div>\n"
            ],
            "application/vnd.google.colaboratory.intrinsic+json": {
              "type": "dataframe",
              "variable_name": "data_sales",
              "summary": "{\n  \"name\": \"data_sales\",\n  \"rows\": 68267,\n  \"fields\": [\n    {\n      \"column\": \"Store\",\n      \"properties\": {\n        \"dtype\": \"number\",\n        \"std\": 2,\n        \"min\": 1,\n        \"max\": 7,\n        \"num_unique_values\": 7,\n        \"samples\": [\n          1,\n          2,\n          6\n        ],\n        \"semantic_type\": \"\",\n        \"description\": \"\"\n      }\n    },\n    {\n      \"column\": \"Dept\",\n      \"properties\": {\n        \"dtype\": \"number\",\n        \"std\": 29,\n        \"min\": 1,\n        \"max\": 99,\n        \"num_unique_values\": 78,\n        \"samples\": [\n          35,\n          1,\n          36\n        ],\n        \"semantic_type\": \"\",\n        \"description\": \"\"\n      }\n    },\n    {\n      \"column\": \"Date\",\n      \"properties\": {\n        \"dtype\": \"category\",\n        \"num_unique_values\": 143,\n        \"samples\": [\n          \"04/05/2012\",\n          \"18/06/2010\",\n          \"02/09/2011\"\n        ],\n        \"semantic_type\": \"\",\n        \"description\": \"\"\n      }\n    },\n    {\n      \"column\": \"Weekly_Sales\",\n      \"properties\": {\n        \"dtype\": \"number\",\n        \"std\": 26093.302345306285,\n        \"min\": -1098.0,\n        \"max\": 385051.04,\n        \"num_unique_values\": 64246,\n        \"samples\": [\n          7179.84,\n          1062.0,\n          1679.28\n        ],\n        \"semantic_type\": \"\",\n        \"description\": \"\"\n      }\n    },\n    {\n      \"column\": \"IsHoliday\",\n      \"properties\": {\n        \"dtype\": \"category\",\n        \"num_unique_values\": 2,\n        \"samples\": [\n          true,\n          false\n        ],\n        \"semantic_type\": \"\",\n        \"description\": \"\"\n      }\n    }\n  ]\n}"
            }
          },
          "metadata": {},
          "execution_count": 5
        }
      ]
    },
    {
      "cell_type": "code",
      "source": [
        "data_sales.info()"
      ],
      "metadata": {
        "colab": {
          "base_uri": "https://localhost:8080/"
        },
        "id": "_UmeoNVlBFy3",
        "outputId": "8c747cdc-5fe3-417a-d899-209066b1e52e"
      },
      "execution_count": 6,
      "outputs": [
        {
          "output_type": "stream",
          "name": "stdout",
          "text": [
            "<class 'pandas.core.frame.DataFrame'>\n",
            "RangeIndex: 68267 entries, 0 to 68266\n",
            "Data columns (total 5 columns):\n",
            " #   Column        Non-Null Count  Dtype  \n",
            "---  ------        --------------  -----  \n",
            " 0   Store         68267 non-null  int64  \n",
            " 1   Dept          68267 non-null  int64  \n",
            " 2   Date          68267 non-null  object \n",
            " 3   Weekly_Sales  68267 non-null  float64\n",
            " 4   IsHoliday     68266 non-null  object \n",
            "dtypes: float64(1), int64(2), object(2)\n",
            "memory usage: 2.6+ MB\n"
          ]
        }
      ]
    },
    {
      "cell_type": "code",
      "source": [
        "data_stores.head()"
      ],
      "metadata": {
        "id": "qPLqgTcx7Ny7",
        "colab": {
          "base_uri": "https://localhost:8080/",
          "height": 206
        },
        "outputId": "87ecaef7-533a-4db6-a4fd-6b41cd41a1ed"
      },
      "execution_count": 7,
      "outputs": [
        {
          "output_type": "execute_result",
          "data": {
            "text/plain": [
              "   Store Type    Size\n",
              "0      1    A  151315\n",
              "1      2    A  202307\n",
              "2      3    B   37392\n",
              "3      4    A  205863\n",
              "4      5    B   34875"
            ],
            "text/html": [
              "\n",
              "  <div id=\"df-3eb261b6-2747-424c-9e6a-c5722744f6da\" class=\"colab-df-container\">\n",
              "    <div>\n",
              "<style scoped>\n",
              "    .dataframe tbody tr th:only-of-type {\n",
              "        vertical-align: middle;\n",
              "    }\n",
              "\n",
              "    .dataframe tbody tr th {\n",
              "        vertical-align: top;\n",
              "    }\n",
              "\n",
              "    .dataframe thead th {\n",
              "        text-align: right;\n",
              "    }\n",
              "</style>\n",
              "<table border=\"1\" class=\"dataframe\">\n",
              "  <thead>\n",
              "    <tr style=\"text-align: right;\">\n",
              "      <th></th>\n",
              "      <th>Store</th>\n",
              "      <th>Type</th>\n",
              "      <th>Size</th>\n",
              "    </tr>\n",
              "  </thead>\n",
              "  <tbody>\n",
              "    <tr>\n",
              "      <th>0</th>\n",
              "      <td>1</td>\n",
              "      <td>A</td>\n",
              "      <td>151315</td>\n",
              "    </tr>\n",
              "    <tr>\n",
              "      <th>1</th>\n",
              "      <td>2</td>\n",
              "      <td>A</td>\n",
              "      <td>202307</td>\n",
              "    </tr>\n",
              "    <tr>\n",
              "      <th>2</th>\n",
              "      <td>3</td>\n",
              "      <td>B</td>\n",
              "      <td>37392</td>\n",
              "    </tr>\n",
              "    <tr>\n",
              "      <th>3</th>\n",
              "      <td>4</td>\n",
              "      <td>A</td>\n",
              "      <td>205863</td>\n",
              "    </tr>\n",
              "    <tr>\n",
              "      <th>4</th>\n",
              "      <td>5</td>\n",
              "      <td>B</td>\n",
              "      <td>34875</td>\n",
              "    </tr>\n",
              "  </tbody>\n",
              "</table>\n",
              "</div>\n",
              "    <div class=\"colab-df-buttons\">\n",
              "\n",
              "  <div class=\"colab-df-container\">\n",
              "    <button class=\"colab-df-convert\" onclick=\"convertToInteractive('df-3eb261b6-2747-424c-9e6a-c5722744f6da')\"\n",
              "            title=\"Convert this dataframe to an interactive table.\"\n",
              "            style=\"display:none;\">\n",
              "\n",
              "  <svg xmlns=\"http://www.w3.org/2000/svg\" height=\"24px\" viewBox=\"0 -960 960 960\">\n",
              "    <path d=\"M120-120v-720h720v720H120Zm60-500h600v-160H180v160Zm220 220h160v-160H400v160Zm0 220h160v-160H400v160ZM180-400h160v-160H180v160Zm440 0h160v-160H620v160ZM180-180h160v-160H180v160Zm440 0h160v-160H620v160Z\"/>\n",
              "  </svg>\n",
              "    </button>\n",
              "\n",
              "  <style>\n",
              "    .colab-df-container {\n",
              "      display:flex;\n",
              "      gap: 12px;\n",
              "    }\n",
              "\n",
              "    .colab-df-convert {\n",
              "      background-color: #E8F0FE;\n",
              "      border: none;\n",
              "      border-radius: 50%;\n",
              "      cursor: pointer;\n",
              "      display: none;\n",
              "      fill: #1967D2;\n",
              "      height: 32px;\n",
              "      padding: 0 0 0 0;\n",
              "      width: 32px;\n",
              "    }\n",
              "\n",
              "    .colab-df-convert:hover {\n",
              "      background-color: #E2EBFA;\n",
              "      box-shadow: 0px 1px 2px rgba(60, 64, 67, 0.3), 0px 1px 3px 1px rgba(60, 64, 67, 0.15);\n",
              "      fill: #174EA6;\n",
              "    }\n",
              "\n",
              "    .colab-df-buttons div {\n",
              "      margin-bottom: 4px;\n",
              "    }\n",
              "\n",
              "    [theme=dark] .colab-df-convert {\n",
              "      background-color: #3B4455;\n",
              "      fill: #D2E3FC;\n",
              "    }\n",
              "\n",
              "    [theme=dark] .colab-df-convert:hover {\n",
              "      background-color: #434B5C;\n",
              "      box-shadow: 0px 1px 3px 1px rgba(0, 0, 0, 0.15);\n",
              "      filter: drop-shadow(0px 1px 2px rgba(0, 0, 0, 0.3));\n",
              "      fill: #FFFFFF;\n",
              "    }\n",
              "  </style>\n",
              "\n",
              "    <script>\n",
              "      const buttonEl =\n",
              "        document.querySelector('#df-3eb261b6-2747-424c-9e6a-c5722744f6da button.colab-df-convert');\n",
              "      buttonEl.style.display =\n",
              "        google.colab.kernel.accessAllowed ? 'block' : 'none';\n",
              "\n",
              "      async function convertToInteractive(key) {\n",
              "        const element = document.querySelector('#df-3eb261b6-2747-424c-9e6a-c5722744f6da');\n",
              "        const dataTable =\n",
              "          await google.colab.kernel.invokeFunction('convertToInteractive',\n",
              "                                                    [key], {});\n",
              "        if (!dataTable) return;\n",
              "\n",
              "        const docLinkHtml = 'Like what you see? Visit the ' +\n",
              "          '<a target=\"_blank\" href=https://colab.research.google.com/notebooks/data_table.ipynb>data table notebook</a>'\n",
              "          + ' to learn more about interactive tables.';\n",
              "        element.innerHTML = '';\n",
              "        dataTable['output_type'] = 'display_data';\n",
              "        await google.colab.output.renderOutput(dataTable, element);\n",
              "        const docLink = document.createElement('div');\n",
              "        docLink.innerHTML = docLinkHtml;\n",
              "        element.appendChild(docLink);\n",
              "      }\n",
              "    </script>\n",
              "  </div>\n",
              "\n",
              "\n",
              "<div id=\"df-cb618995-ac44-4f13-b6ac-3f2f82025439\">\n",
              "  <button class=\"colab-df-quickchart\" onclick=\"quickchart('df-cb618995-ac44-4f13-b6ac-3f2f82025439')\"\n",
              "            title=\"Suggest charts\"\n",
              "            style=\"display:none;\">\n",
              "\n",
              "<svg xmlns=\"http://www.w3.org/2000/svg\" height=\"24px\"viewBox=\"0 0 24 24\"\n",
              "     width=\"24px\">\n",
              "    <g>\n",
              "        <path d=\"M19 3H5c-1.1 0-2 .9-2 2v14c0 1.1.9 2 2 2h14c1.1 0 2-.9 2-2V5c0-1.1-.9-2-2-2zM9 17H7v-7h2v7zm4 0h-2V7h2v10zm4 0h-2v-4h2v4z\"/>\n",
              "    </g>\n",
              "</svg>\n",
              "  </button>\n",
              "\n",
              "<style>\n",
              "  .colab-df-quickchart {\n",
              "      --bg-color: #E8F0FE;\n",
              "      --fill-color: #1967D2;\n",
              "      --hover-bg-color: #E2EBFA;\n",
              "      --hover-fill-color: #174EA6;\n",
              "      --disabled-fill-color: #AAA;\n",
              "      --disabled-bg-color: #DDD;\n",
              "  }\n",
              "\n",
              "  [theme=dark] .colab-df-quickchart {\n",
              "      --bg-color: #3B4455;\n",
              "      --fill-color: #D2E3FC;\n",
              "      --hover-bg-color: #434B5C;\n",
              "      --hover-fill-color: #FFFFFF;\n",
              "      --disabled-bg-color: #3B4455;\n",
              "      --disabled-fill-color: #666;\n",
              "  }\n",
              "\n",
              "  .colab-df-quickchart {\n",
              "    background-color: var(--bg-color);\n",
              "    border: none;\n",
              "    border-radius: 50%;\n",
              "    cursor: pointer;\n",
              "    display: none;\n",
              "    fill: var(--fill-color);\n",
              "    height: 32px;\n",
              "    padding: 0;\n",
              "    width: 32px;\n",
              "  }\n",
              "\n",
              "  .colab-df-quickchart:hover {\n",
              "    background-color: var(--hover-bg-color);\n",
              "    box-shadow: 0 1px 2px rgba(60, 64, 67, 0.3), 0 1px 3px 1px rgba(60, 64, 67, 0.15);\n",
              "    fill: var(--button-hover-fill-color);\n",
              "  }\n",
              "\n",
              "  .colab-df-quickchart-complete:disabled,\n",
              "  .colab-df-quickchart-complete:disabled:hover {\n",
              "    background-color: var(--disabled-bg-color);\n",
              "    fill: var(--disabled-fill-color);\n",
              "    box-shadow: none;\n",
              "  }\n",
              "\n",
              "  .colab-df-spinner {\n",
              "    border: 2px solid var(--fill-color);\n",
              "    border-color: transparent;\n",
              "    border-bottom-color: var(--fill-color);\n",
              "    animation:\n",
              "      spin 1s steps(1) infinite;\n",
              "  }\n",
              "\n",
              "  @keyframes spin {\n",
              "    0% {\n",
              "      border-color: transparent;\n",
              "      border-bottom-color: var(--fill-color);\n",
              "      border-left-color: var(--fill-color);\n",
              "    }\n",
              "    20% {\n",
              "      border-color: transparent;\n",
              "      border-left-color: var(--fill-color);\n",
              "      border-top-color: var(--fill-color);\n",
              "    }\n",
              "    30% {\n",
              "      border-color: transparent;\n",
              "      border-left-color: var(--fill-color);\n",
              "      border-top-color: var(--fill-color);\n",
              "      border-right-color: var(--fill-color);\n",
              "    }\n",
              "    40% {\n",
              "      border-color: transparent;\n",
              "      border-right-color: var(--fill-color);\n",
              "      border-top-color: var(--fill-color);\n",
              "    }\n",
              "    60% {\n",
              "      border-color: transparent;\n",
              "      border-right-color: var(--fill-color);\n",
              "    }\n",
              "    80% {\n",
              "      border-color: transparent;\n",
              "      border-right-color: var(--fill-color);\n",
              "      border-bottom-color: var(--fill-color);\n",
              "    }\n",
              "    90% {\n",
              "      border-color: transparent;\n",
              "      border-bottom-color: var(--fill-color);\n",
              "    }\n",
              "  }\n",
              "</style>\n",
              "\n",
              "  <script>\n",
              "    async function quickchart(key) {\n",
              "      const quickchartButtonEl =\n",
              "        document.querySelector('#' + key + ' button');\n",
              "      quickchartButtonEl.disabled = true;  // To prevent multiple clicks.\n",
              "      quickchartButtonEl.classList.add('colab-df-spinner');\n",
              "      try {\n",
              "        const charts = await google.colab.kernel.invokeFunction(\n",
              "            'suggestCharts', [key], {});\n",
              "      } catch (error) {\n",
              "        console.error('Error during call to suggestCharts:', error);\n",
              "      }\n",
              "      quickchartButtonEl.classList.remove('colab-df-spinner');\n",
              "      quickchartButtonEl.classList.add('colab-df-quickchart-complete');\n",
              "    }\n",
              "    (() => {\n",
              "      let quickchartButtonEl =\n",
              "        document.querySelector('#df-cb618995-ac44-4f13-b6ac-3f2f82025439 button');\n",
              "      quickchartButtonEl.style.display =\n",
              "        google.colab.kernel.accessAllowed ? 'block' : 'none';\n",
              "    })();\n",
              "  </script>\n",
              "</div>\n",
              "\n",
              "    </div>\n",
              "  </div>\n"
            ],
            "application/vnd.google.colaboratory.intrinsic+json": {
              "type": "dataframe",
              "variable_name": "data_stores",
              "summary": "{\n  \"name\": \"data_stores\",\n  \"rows\": 45,\n  \"fields\": [\n    {\n      \"column\": \"Store\",\n      \"properties\": {\n        \"dtype\": \"number\",\n        \"std\": 13,\n        \"min\": 1,\n        \"max\": 45,\n        \"num_unique_values\": 45,\n        \"samples\": [\n          40,\n          26,\n          27\n        ],\n        \"semantic_type\": \"\",\n        \"description\": \"\"\n      }\n    },\n    {\n      \"column\": \"Type\",\n      \"properties\": {\n        \"dtype\": \"category\",\n        \"num_unique_values\": 3,\n        \"samples\": [\n          \"A\",\n          \"B\",\n          \"C\"\n        ],\n        \"semantic_type\": \"\",\n        \"description\": \"\"\n      }\n    },\n    {\n      \"column\": \"Size\",\n      \"properties\": {\n        \"dtype\": \"number\",\n        \"std\": 63825,\n        \"min\": 34875,\n        \"max\": 219622,\n        \"num_unique_values\": 40,\n        \"samples\": [\n          203742,\n          93188,\n          57197\n        ],\n        \"semantic_type\": \"\",\n        \"description\": \"\"\n      }\n    }\n  ]\n}"
            }
          },
          "metadata": {},
          "execution_count": 7
        }
      ]
    },
    {
      "cell_type": "code",
      "source": [
        "data_stores.info()"
      ],
      "metadata": {
        "colab": {
          "base_uri": "https://localhost:8080/"
        },
        "id": "PDsLhdw2BS5x",
        "outputId": "23c00131-b14b-4c91-ff1e-532f4a14728f"
      },
      "execution_count": 8,
      "outputs": [
        {
          "output_type": "stream",
          "name": "stdout",
          "text": [
            "<class 'pandas.core.frame.DataFrame'>\n",
            "RangeIndex: 45 entries, 0 to 44\n",
            "Data columns (total 3 columns):\n",
            " #   Column  Non-Null Count  Dtype \n",
            "---  ------  --------------  ----- \n",
            " 0   Store   45 non-null     int64 \n",
            " 1   Type    45 non-null     object\n",
            " 2   Size    45 non-null     int64 \n",
            "dtypes: int64(2), object(1)\n",
            "memory usage: 1.2+ KB\n"
          ]
        }
      ]
    },
    {
      "cell_type": "markdown",
      "source": [
        "#DATA MERGING"
      ],
      "metadata": {
        "id": "RuLoZMda-yPi"
      }
    },
    {
      "cell_type": "code",
      "source": [
        "merged_df = pd.merge(data_feature, data_sales, on=['Store','Date','IsHoliday'])\n",
        "merged_df"
      ],
      "metadata": {
        "colab": {
          "base_uri": "https://localhost:8080/",
          "height": 443
        },
        "id": "B1Wij9oO-3IY",
        "outputId": "ef240761-aee5-42a7-8ae1-b9c01cf8bbb2"
      },
      "execution_count": 9,
      "outputs": [
        {
          "output_type": "execute_result",
          "data": {
            "text/plain": [
              "       Store        Date  Temperature  Fuel_Price  MarkDown1  MarkDown2  \\\n",
              "0          1  05/02/2010        42.31       2.572        NaN        NaN   \n",
              "1          1  05/02/2010        42.31       2.572        NaN        NaN   \n",
              "2          1  05/02/2010        42.31       2.572        NaN        NaN   \n",
              "3          1  05/02/2010        42.31       2.572        NaN        NaN   \n",
              "4          1  05/02/2010        42.31       2.572        NaN        NaN   \n",
              "...      ...         ...          ...         ...        ...        ...   \n",
              "68261      7  26/10/2012        42.53       3.686    2818.42      24.03   \n",
              "68262      7  26/10/2012        42.53       3.686    2818.42      24.03   \n",
              "68263      7  26/10/2012        42.53       3.686    2818.42      24.03   \n",
              "68264      7  26/10/2012        42.53       3.686    2818.42      24.03   \n",
              "68265      7  26/10/2012        42.53       3.686    2818.42      24.03   \n",
              "\n",
              "       MarkDown3  MarkDown4  MarkDown5         CPI  Unemployment IsHoliday  \\\n",
              "0            NaN        NaN        NaN  211.096358         8.106     False   \n",
              "1            NaN        NaN        NaN  211.096358         8.106     False   \n",
              "2            NaN        NaN        NaN  211.096358         8.106     False   \n",
              "3            NaN        NaN        NaN  211.096358         8.106     False   \n",
              "4            NaN        NaN        NaN  211.096358         8.106     False   \n",
              "...          ...        ...        ...         ...           ...       ...   \n",
              "68261       2.97     343.26    1064.56  199.219532         7.557     False   \n",
              "68262       2.97     343.26    1064.56  199.219532         7.557     False   \n",
              "68263       2.97     343.26    1064.56  199.219532         7.557     False   \n",
              "68264       2.97     343.26    1064.56  199.219532         7.557     False   \n",
              "68265       2.97     343.26    1064.56  199.219532         7.557     False   \n",
              "\n",
              "       Dept  Weekly_Sales  \n",
              "0         1      24924.50  \n",
              "1         2      50605.27  \n",
              "2         3      13740.12  \n",
              "3         4      39954.04  \n",
              "4         5      32229.38  \n",
              "...     ...           ...  \n",
              "68261    90      13211.75  \n",
              "68262    91       9435.59  \n",
              "68263    92      25090.81  \n",
              "68264    93       1583.42  \n",
              "68265    94       1163.11  \n",
              "\n",
              "[68266 rows x 14 columns]"
            ],
            "text/html": [
              "\n",
              "  <div id=\"df-deb5ab51-cf11-4d90-9e75-a057ff99bff1\" class=\"colab-df-container\">\n",
              "    <div>\n",
              "<style scoped>\n",
              "    .dataframe tbody tr th:only-of-type {\n",
              "        vertical-align: middle;\n",
              "    }\n",
              "\n",
              "    .dataframe tbody tr th {\n",
              "        vertical-align: top;\n",
              "    }\n",
              "\n",
              "    .dataframe thead th {\n",
              "        text-align: right;\n",
              "    }\n",
              "</style>\n",
              "<table border=\"1\" class=\"dataframe\">\n",
              "  <thead>\n",
              "    <tr style=\"text-align: right;\">\n",
              "      <th></th>\n",
              "      <th>Store</th>\n",
              "      <th>Date</th>\n",
              "      <th>Temperature</th>\n",
              "      <th>Fuel_Price</th>\n",
              "      <th>MarkDown1</th>\n",
              "      <th>MarkDown2</th>\n",
              "      <th>MarkDown3</th>\n",
              "      <th>MarkDown4</th>\n",
              "      <th>MarkDown5</th>\n",
              "      <th>CPI</th>\n",
              "      <th>Unemployment</th>\n",
              "      <th>IsHoliday</th>\n",
              "      <th>Dept</th>\n",
              "      <th>Weekly_Sales</th>\n",
              "    </tr>\n",
              "  </thead>\n",
              "  <tbody>\n",
              "    <tr>\n",
              "      <th>0</th>\n",
              "      <td>1</td>\n",
              "      <td>05/02/2010</td>\n",
              "      <td>42.31</td>\n",
              "      <td>2.572</td>\n",
              "      <td>NaN</td>\n",
              "      <td>NaN</td>\n",
              "      <td>NaN</td>\n",
              "      <td>NaN</td>\n",
              "      <td>NaN</td>\n",
              "      <td>211.096358</td>\n",
              "      <td>8.106</td>\n",
              "      <td>False</td>\n",
              "      <td>1</td>\n",
              "      <td>24924.50</td>\n",
              "    </tr>\n",
              "    <tr>\n",
              "      <th>1</th>\n",
              "      <td>1</td>\n",
              "      <td>05/02/2010</td>\n",
              "      <td>42.31</td>\n",
              "      <td>2.572</td>\n",
              "      <td>NaN</td>\n",
              "      <td>NaN</td>\n",
              "      <td>NaN</td>\n",
              "      <td>NaN</td>\n",
              "      <td>NaN</td>\n",
              "      <td>211.096358</td>\n",
              "      <td>8.106</td>\n",
              "      <td>False</td>\n",
              "      <td>2</td>\n",
              "      <td>50605.27</td>\n",
              "    </tr>\n",
              "    <tr>\n",
              "      <th>2</th>\n",
              "      <td>1</td>\n",
              "      <td>05/02/2010</td>\n",
              "      <td>42.31</td>\n",
              "      <td>2.572</td>\n",
              "      <td>NaN</td>\n",
              "      <td>NaN</td>\n",
              "      <td>NaN</td>\n",
              "      <td>NaN</td>\n",
              "      <td>NaN</td>\n",
              "      <td>211.096358</td>\n",
              "      <td>8.106</td>\n",
              "      <td>False</td>\n",
              "      <td>3</td>\n",
              "      <td>13740.12</td>\n",
              "    </tr>\n",
              "    <tr>\n",
              "      <th>3</th>\n",
              "      <td>1</td>\n",
              "      <td>05/02/2010</td>\n",
              "      <td>42.31</td>\n",
              "      <td>2.572</td>\n",
              "      <td>NaN</td>\n",
              "      <td>NaN</td>\n",
              "      <td>NaN</td>\n",
              "      <td>NaN</td>\n",
              "      <td>NaN</td>\n",
              "      <td>211.096358</td>\n",
              "      <td>8.106</td>\n",
              "      <td>False</td>\n",
              "      <td>4</td>\n",
              "      <td>39954.04</td>\n",
              "    </tr>\n",
              "    <tr>\n",
              "      <th>4</th>\n",
              "      <td>1</td>\n",
              "      <td>05/02/2010</td>\n",
              "      <td>42.31</td>\n",
              "      <td>2.572</td>\n",
              "      <td>NaN</td>\n",
              "      <td>NaN</td>\n",
              "      <td>NaN</td>\n",
              "      <td>NaN</td>\n",
              "      <td>NaN</td>\n",
              "      <td>211.096358</td>\n",
              "      <td>8.106</td>\n",
              "      <td>False</td>\n",
              "      <td>5</td>\n",
              "      <td>32229.38</td>\n",
              "    </tr>\n",
              "    <tr>\n",
              "      <th>...</th>\n",
              "      <td>...</td>\n",
              "      <td>...</td>\n",
              "      <td>...</td>\n",
              "      <td>...</td>\n",
              "      <td>...</td>\n",
              "      <td>...</td>\n",
              "      <td>...</td>\n",
              "      <td>...</td>\n",
              "      <td>...</td>\n",
              "      <td>...</td>\n",
              "      <td>...</td>\n",
              "      <td>...</td>\n",
              "      <td>...</td>\n",
              "      <td>...</td>\n",
              "    </tr>\n",
              "    <tr>\n",
              "      <th>68261</th>\n",
              "      <td>7</td>\n",
              "      <td>26/10/2012</td>\n",
              "      <td>42.53</td>\n",
              "      <td>3.686</td>\n",
              "      <td>2818.42</td>\n",
              "      <td>24.03</td>\n",
              "      <td>2.97</td>\n",
              "      <td>343.26</td>\n",
              "      <td>1064.56</td>\n",
              "      <td>199.219532</td>\n",
              "      <td>7.557</td>\n",
              "      <td>False</td>\n",
              "      <td>90</td>\n",
              "      <td>13211.75</td>\n",
              "    </tr>\n",
              "    <tr>\n",
              "      <th>68262</th>\n",
              "      <td>7</td>\n",
              "      <td>26/10/2012</td>\n",
              "      <td>42.53</td>\n",
              "      <td>3.686</td>\n",
              "      <td>2818.42</td>\n",
              "      <td>24.03</td>\n",
              "      <td>2.97</td>\n",
              "      <td>343.26</td>\n",
              "      <td>1064.56</td>\n",
              "      <td>199.219532</td>\n",
              "      <td>7.557</td>\n",
              "      <td>False</td>\n",
              "      <td>91</td>\n",
              "      <td>9435.59</td>\n",
              "    </tr>\n",
              "    <tr>\n",
              "      <th>68263</th>\n",
              "      <td>7</td>\n",
              "      <td>26/10/2012</td>\n",
              "      <td>42.53</td>\n",
              "      <td>3.686</td>\n",
              "      <td>2818.42</td>\n",
              "      <td>24.03</td>\n",
              "      <td>2.97</td>\n",
              "      <td>343.26</td>\n",
              "      <td>1064.56</td>\n",
              "      <td>199.219532</td>\n",
              "      <td>7.557</td>\n",
              "      <td>False</td>\n",
              "      <td>92</td>\n",
              "      <td>25090.81</td>\n",
              "    </tr>\n",
              "    <tr>\n",
              "      <th>68264</th>\n",
              "      <td>7</td>\n",
              "      <td>26/10/2012</td>\n",
              "      <td>42.53</td>\n",
              "      <td>3.686</td>\n",
              "      <td>2818.42</td>\n",
              "      <td>24.03</td>\n",
              "      <td>2.97</td>\n",
              "      <td>343.26</td>\n",
              "      <td>1064.56</td>\n",
              "      <td>199.219532</td>\n",
              "      <td>7.557</td>\n",
              "      <td>False</td>\n",
              "      <td>93</td>\n",
              "      <td>1583.42</td>\n",
              "    </tr>\n",
              "    <tr>\n",
              "      <th>68265</th>\n",
              "      <td>7</td>\n",
              "      <td>26/10/2012</td>\n",
              "      <td>42.53</td>\n",
              "      <td>3.686</td>\n",
              "      <td>2818.42</td>\n",
              "      <td>24.03</td>\n",
              "      <td>2.97</td>\n",
              "      <td>343.26</td>\n",
              "      <td>1064.56</td>\n",
              "      <td>199.219532</td>\n",
              "      <td>7.557</td>\n",
              "      <td>False</td>\n",
              "      <td>94</td>\n",
              "      <td>1163.11</td>\n",
              "    </tr>\n",
              "  </tbody>\n",
              "</table>\n",
              "<p>68266 rows × 14 columns</p>\n",
              "</div>\n",
              "    <div class=\"colab-df-buttons\">\n",
              "\n",
              "  <div class=\"colab-df-container\">\n",
              "    <button class=\"colab-df-convert\" onclick=\"convertToInteractive('df-deb5ab51-cf11-4d90-9e75-a057ff99bff1')\"\n",
              "            title=\"Convert this dataframe to an interactive table.\"\n",
              "            style=\"display:none;\">\n",
              "\n",
              "  <svg xmlns=\"http://www.w3.org/2000/svg\" height=\"24px\" viewBox=\"0 -960 960 960\">\n",
              "    <path d=\"M120-120v-720h720v720H120Zm60-500h600v-160H180v160Zm220 220h160v-160H400v160Zm0 220h160v-160H400v160ZM180-400h160v-160H180v160Zm440 0h160v-160H620v160ZM180-180h160v-160H180v160Zm440 0h160v-160H620v160Z\"/>\n",
              "  </svg>\n",
              "    </button>\n",
              "\n",
              "  <style>\n",
              "    .colab-df-container {\n",
              "      display:flex;\n",
              "      gap: 12px;\n",
              "    }\n",
              "\n",
              "    .colab-df-convert {\n",
              "      background-color: #E8F0FE;\n",
              "      border: none;\n",
              "      border-radius: 50%;\n",
              "      cursor: pointer;\n",
              "      display: none;\n",
              "      fill: #1967D2;\n",
              "      height: 32px;\n",
              "      padding: 0 0 0 0;\n",
              "      width: 32px;\n",
              "    }\n",
              "\n",
              "    .colab-df-convert:hover {\n",
              "      background-color: #E2EBFA;\n",
              "      box-shadow: 0px 1px 2px rgba(60, 64, 67, 0.3), 0px 1px 3px 1px rgba(60, 64, 67, 0.15);\n",
              "      fill: #174EA6;\n",
              "    }\n",
              "\n",
              "    .colab-df-buttons div {\n",
              "      margin-bottom: 4px;\n",
              "    }\n",
              "\n",
              "    [theme=dark] .colab-df-convert {\n",
              "      background-color: #3B4455;\n",
              "      fill: #D2E3FC;\n",
              "    }\n",
              "\n",
              "    [theme=dark] .colab-df-convert:hover {\n",
              "      background-color: #434B5C;\n",
              "      box-shadow: 0px 1px 3px 1px rgba(0, 0, 0, 0.15);\n",
              "      filter: drop-shadow(0px 1px 2px rgba(0, 0, 0, 0.3));\n",
              "      fill: #FFFFFF;\n",
              "    }\n",
              "  </style>\n",
              "\n",
              "    <script>\n",
              "      const buttonEl =\n",
              "        document.querySelector('#df-deb5ab51-cf11-4d90-9e75-a057ff99bff1 button.colab-df-convert');\n",
              "      buttonEl.style.display =\n",
              "        google.colab.kernel.accessAllowed ? 'block' : 'none';\n",
              "\n",
              "      async function convertToInteractive(key) {\n",
              "        const element = document.querySelector('#df-deb5ab51-cf11-4d90-9e75-a057ff99bff1');\n",
              "        const dataTable =\n",
              "          await google.colab.kernel.invokeFunction('convertToInteractive',\n",
              "                                                    [key], {});\n",
              "        if (!dataTable) return;\n",
              "\n",
              "        const docLinkHtml = 'Like what you see? Visit the ' +\n",
              "          '<a target=\"_blank\" href=https://colab.research.google.com/notebooks/data_table.ipynb>data table notebook</a>'\n",
              "          + ' to learn more about interactive tables.';\n",
              "        element.innerHTML = '';\n",
              "        dataTable['output_type'] = 'display_data';\n",
              "        await google.colab.output.renderOutput(dataTable, element);\n",
              "        const docLink = document.createElement('div');\n",
              "        docLink.innerHTML = docLinkHtml;\n",
              "        element.appendChild(docLink);\n",
              "      }\n",
              "    </script>\n",
              "  </div>\n",
              "\n",
              "\n",
              "<div id=\"df-ae5dd33d-f5b6-48f5-a73e-3048294adeb9\">\n",
              "  <button class=\"colab-df-quickchart\" onclick=\"quickchart('df-ae5dd33d-f5b6-48f5-a73e-3048294adeb9')\"\n",
              "            title=\"Suggest charts\"\n",
              "            style=\"display:none;\">\n",
              "\n",
              "<svg xmlns=\"http://www.w3.org/2000/svg\" height=\"24px\"viewBox=\"0 0 24 24\"\n",
              "     width=\"24px\">\n",
              "    <g>\n",
              "        <path d=\"M19 3H5c-1.1 0-2 .9-2 2v14c0 1.1.9 2 2 2h14c1.1 0 2-.9 2-2V5c0-1.1-.9-2-2-2zM9 17H7v-7h2v7zm4 0h-2V7h2v10zm4 0h-2v-4h2v4z\"/>\n",
              "    </g>\n",
              "</svg>\n",
              "  </button>\n",
              "\n",
              "<style>\n",
              "  .colab-df-quickchart {\n",
              "      --bg-color: #E8F0FE;\n",
              "      --fill-color: #1967D2;\n",
              "      --hover-bg-color: #E2EBFA;\n",
              "      --hover-fill-color: #174EA6;\n",
              "      --disabled-fill-color: #AAA;\n",
              "      --disabled-bg-color: #DDD;\n",
              "  }\n",
              "\n",
              "  [theme=dark] .colab-df-quickchart {\n",
              "      --bg-color: #3B4455;\n",
              "      --fill-color: #D2E3FC;\n",
              "      --hover-bg-color: #434B5C;\n",
              "      --hover-fill-color: #FFFFFF;\n",
              "      --disabled-bg-color: #3B4455;\n",
              "      --disabled-fill-color: #666;\n",
              "  }\n",
              "\n",
              "  .colab-df-quickchart {\n",
              "    background-color: var(--bg-color);\n",
              "    border: none;\n",
              "    border-radius: 50%;\n",
              "    cursor: pointer;\n",
              "    display: none;\n",
              "    fill: var(--fill-color);\n",
              "    height: 32px;\n",
              "    padding: 0;\n",
              "    width: 32px;\n",
              "  }\n",
              "\n",
              "  .colab-df-quickchart:hover {\n",
              "    background-color: var(--hover-bg-color);\n",
              "    box-shadow: 0 1px 2px rgba(60, 64, 67, 0.3), 0 1px 3px 1px rgba(60, 64, 67, 0.15);\n",
              "    fill: var(--button-hover-fill-color);\n",
              "  }\n",
              "\n",
              "  .colab-df-quickchart-complete:disabled,\n",
              "  .colab-df-quickchart-complete:disabled:hover {\n",
              "    background-color: var(--disabled-bg-color);\n",
              "    fill: var(--disabled-fill-color);\n",
              "    box-shadow: none;\n",
              "  }\n",
              "\n",
              "  .colab-df-spinner {\n",
              "    border: 2px solid var(--fill-color);\n",
              "    border-color: transparent;\n",
              "    border-bottom-color: var(--fill-color);\n",
              "    animation:\n",
              "      spin 1s steps(1) infinite;\n",
              "  }\n",
              "\n",
              "  @keyframes spin {\n",
              "    0% {\n",
              "      border-color: transparent;\n",
              "      border-bottom-color: var(--fill-color);\n",
              "      border-left-color: var(--fill-color);\n",
              "    }\n",
              "    20% {\n",
              "      border-color: transparent;\n",
              "      border-left-color: var(--fill-color);\n",
              "      border-top-color: var(--fill-color);\n",
              "    }\n",
              "    30% {\n",
              "      border-color: transparent;\n",
              "      border-left-color: var(--fill-color);\n",
              "      border-top-color: var(--fill-color);\n",
              "      border-right-color: var(--fill-color);\n",
              "    }\n",
              "    40% {\n",
              "      border-color: transparent;\n",
              "      border-right-color: var(--fill-color);\n",
              "      border-top-color: var(--fill-color);\n",
              "    }\n",
              "    60% {\n",
              "      border-color: transparent;\n",
              "      border-right-color: var(--fill-color);\n",
              "    }\n",
              "    80% {\n",
              "      border-color: transparent;\n",
              "      border-right-color: var(--fill-color);\n",
              "      border-bottom-color: var(--fill-color);\n",
              "    }\n",
              "    90% {\n",
              "      border-color: transparent;\n",
              "      border-bottom-color: var(--fill-color);\n",
              "    }\n",
              "  }\n",
              "</style>\n",
              "\n",
              "  <script>\n",
              "    async function quickchart(key) {\n",
              "      const quickchartButtonEl =\n",
              "        document.querySelector('#' + key + ' button');\n",
              "      quickchartButtonEl.disabled = true;  // To prevent multiple clicks.\n",
              "      quickchartButtonEl.classList.add('colab-df-spinner');\n",
              "      try {\n",
              "        const charts = await google.colab.kernel.invokeFunction(\n",
              "            'suggestCharts', [key], {});\n",
              "      } catch (error) {\n",
              "        console.error('Error during call to suggestCharts:', error);\n",
              "      }\n",
              "      quickchartButtonEl.classList.remove('colab-df-spinner');\n",
              "      quickchartButtonEl.classList.add('colab-df-quickchart-complete');\n",
              "    }\n",
              "    (() => {\n",
              "      let quickchartButtonEl =\n",
              "        document.querySelector('#df-ae5dd33d-f5b6-48f5-a73e-3048294adeb9 button');\n",
              "      quickchartButtonEl.style.display =\n",
              "        google.colab.kernel.accessAllowed ? 'block' : 'none';\n",
              "    })();\n",
              "  </script>\n",
              "</div>\n",
              "\n",
              "  <div id=\"id_90a257f4-eb64-472b-88d8-c26382e59d98\">\n",
              "    <style>\n",
              "      .colab-df-generate {\n",
              "        background-color: #E8F0FE;\n",
              "        border: none;\n",
              "        border-radius: 50%;\n",
              "        cursor: pointer;\n",
              "        display: none;\n",
              "        fill: #1967D2;\n",
              "        height: 32px;\n",
              "        padding: 0 0 0 0;\n",
              "        width: 32px;\n",
              "      }\n",
              "\n",
              "      .colab-df-generate:hover {\n",
              "        background-color: #E2EBFA;\n",
              "        box-shadow: 0px 1px 2px rgba(60, 64, 67, 0.3), 0px 1px 3px 1px rgba(60, 64, 67, 0.15);\n",
              "        fill: #174EA6;\n",
              "      }\n",
              "\n",
              "      [theme=dark] .colab-df-generate {\n",
              "        background-color: #3B4455;\n",
              "        fill: #D2E3FC;\n",
              "      }\n",
              "\n",
              "      [theme=dark] .colab-df-generate:hover {\n",
              "        background-color: #434B5C;\n",
              "        box-shadow: 0px 1px 3px 1px rgba(0, 0, 0, 0.15);\n",
              "        filter: drop-shadow(0px 1px 2px rgba(0, 0, 0, 0.3));\n",
              "        fill: #FFFFFF;\n",
              "      }\n",
              "    </style>\n",
              "    <button class=\"colab-df-generate\" onclick=\"generateWithVariable('merged_df')\"\n",
              "            title=\"Generate code using this dataframe.\"\n",
              "            style=\"display:none;\">\n",
              "\n",
              "  <svg xmlns=\"http://www.w3.org/2000/svg\" height=\"24px\"viewBox=\"0 0 24 24\"\n",
              "       width=\"24px\">\n",
              "    <path d=\"M7,19H8.4L18.45,9,17,7.55,7,17.6ZM5,21V16.75L18.45,3.32a2,2,0,0,1,2.83,0l1.4,1.43a1.91,1.91,0,0,1,.58,1.4,1.91,1.91,0,0,1-.58,1.4L9.25,21ZM18.45,9,17,7.55Zm-12,3A5.31,5.31,0,0,0,4.9,8.1,5.31,5.31,0,0,0,1,6.5,5.31,5.31,0,0,0,4.9,4.9,5.31,5.31,0,0,0,6.5,1,5.31,5.31,0,0,0,8.1,4.9,5.31,5.31,0,0,0,12,6.5,5.46,5.46,0,0,0,6.5,12Z\"/>\n",
              "  </svg>\n",
              "    </button>\n",
              "    <script>\n",
              "      (() => {\n",
              "      const buttonEl =\n",
              "        document.querySelector('#id_90a257f4-eb64-472b-88d8-c26382e59d98 button.colab-df-generate');\n",
              "      buttonEl.style.display =\n",
              "        google.colab.kernel.accessAllowed ? 'block' : 'none';\n",
              "\n",
              "      buttonEl.onclick = () => {\n",
              "        google.colab.notebook.generateWithVariable('merged_df');\n",
              "      }\n",
              "      })();\n",
              "    </script>\n",
              "  </div>\n",
              "\n",
              "    </div>\n",
              "  </div>\n"
            ],
            "application/vnd.google.colaboratory.intrinsic+json": {
              "type": "dataframe",
              "variable_name": "merged_df",
              "summary": "{\n  \"name\": \"merged_df\",\n  \"rows\": 68266,\n  \"fields\": [\n    {\n      \"column\": \"Store\",\n      \"properties\": {\n        \"dtype\": \"number\",\n        \"std\": 2,\n        \"min\": 1,\n        \"max\": 7,\n        \"num_unique_values\": 7,\n        \"samples\": [\n          1,\n          2,\n          6\n        ],\n        \"semantic_type\": \"\",\n        \"description\": \"\"\n      }\n    },\n    {\n      \"column\": \"Date\",\n      \"properties\": {\n        \"dtype\": \"category\",\n        \"num_unique_values\": 143,\n        \"samples\": [\n          \"04/05/2012\",\n          \"18/06/2010\",\n          \"02/09/2011\"\n        ],\n        \"semantic_type\": \"\",\n        \"description\": \"\"\n      }\n    },\n    {\n      \"column\": \"Temperature\",\n      \"properties\": {\n        \"dtype\": \"number\",\n        \"std\": 17.937090062052366,\n        \"min\": -2.06,\n        \"max\": 93.34,\n        \"num_unique_values\": 926,\n        \"samples\": [\n          68.71,\n          70.71,\n          81.21\n        ],\n        \"semantic_type\": \"\",\n        \"description\": \"\"\n      }\n    },\n    {\n      \"column\": \"Fuel_Price\",\n      \"properties\": {\n        \"dtype\": \"number\",\n        \"std\": 0.42452106023918107,\n        \"min\": 2.514,\n        \"max\": 3.936,\n        \"num_unique_values\": 357,\n        \"samples\": [\n          3.541,\n          2.708,\n          3.611\n        ],\n        \"semantic_type\": \"\",\n        \"description\": \"\"\n      }\n    },\n    {\n      \"column\": \"MarkDown1\",\n      \"properties\": {\n        \"dtype\": \"number\",\n        \"std\": 7988.962896906546,\n        \"min\": 35.94,\n        \"max\": 75149.79,\n        \"num_unique_values\": 357,\n        \"samples\": [\n          1879.87,\n          21442.73,\n          3762.14\n        ],\n        \"semantic_type\": \"\",\n        \"description\": \"\"\n      }\n    },\n    {\n      \"column\": \"MarkDown2\",\n      \"properties\": {\n        \"dtype\": \"number\",\n        \"std\": 10287.325955270513,\n        \"min\": -10.98,\n        \"max\": 92523.94,\n        \"num_unique_values\": 268,\n        \"samples\": [\n          28.4,\n          57.72,\n          612.02\n        ],\n        \"semantic_type\": \"\",\n        \"description\": \"\"\n      }\n    },\n    {\n      \"column\": \"MarkDown3\",\n      \"properties\": {\n        \"dtype\": \"number\",\n        \"std\": 9131.936395502098,\n        \"min\": 0.01,\n        \"max\": 83340.33,\n        \"num_unique_values\": 315,\n        \"samples\": [\n          42.75,\n          192.83,\n          99.91\n        ],\n        \"semantic_type\": \"\",\n        \"description\": \"\"\n      }\n    },\n    {\n      \"column\": \"MarkDown4\",\n      \"properties\": {\n        \"dtype\": \"number\",\n        \"std\": 5569.853127970849,\n        \"min\": 4.0,\n        \"max\": 48159.86,\n        \"num_unique_values\": 350,\n        \"samples\": [\n          52.0,\n          2482.01,\n          15505.0\n        ],\n        \"semantic_type\": \"\",\n        \"description\": \"\"\n      }\n    },\n    {\n      \"column\": \"MarkDown5\",\n      \"properties\": {\n        \"dtype\": \"number\",\n        \"std\": 4994.378866400414,\n        \"min\": 135.16,\n        \"max\": 57029.78,\n        \"num_unique_values\": 357,\n        \"samples\": [\n          1765.08,\n          3032.96,\n          7560.36\n        ],\n        \"semantic_type\": \"\",\n        \"description\": \"\"\n      }\n    },\n    {\n      \"column\": \"CPI\",\n      \"properties\": {\n        \"dtype\": \"number\",\n        \"std\": 31.51780825690186,\n        \"min\": 126.064,\n        \"max\": 226.9873637,\n        \"num_unique_values\": 1001,\n        \"samples\": [\n          129.8167097,\n          194.6387853,\n          213.0311188\n        ],\n        \"semantic_type\": \"\",\n        \"description\": \"\"\n      }\n    },\n    {\n      \"column\": \"Unemployment\",\n      \"properties\": {\n        \"dtype\": \"number\",\n        \"std\": 1.0909868648228656,\n        \"min\": 3.879,\n        \"max\": 9.137,\n        \"num_unique_values\": 84,\n        \"samples\": [\n          8.963,\n          8.106,\n          5.603\n        ],\n        \"semantic_type\": \"\",\n        \"description\": \"\"\n      }\n    },\n    {\n      \"column\": \"IsHoliday\",\n      \"properties\": {\n        \"dtype\": \"category\",\n        \"num_unique_values\": 2,\n        \"samples\": [\n          true,\n          false\n        ],\n        \"semantic_type\": \"\",\n        \"description\": \"\"\n      }\n    },\n    {\n      \"column\": \"Dept\",\n      \"properties\": {\n        \"dtype\": \"number\",\n        \"std\": 29,\n        \"min\": 1,\n        \"max\": 99,\n        \"num_unique_values\": 78,\n        \"samples\": [\n          35,\n          1\n        ],\n        \"semantic_type\": \"\",\n        \"description\": \"\"\n      }\n    },\n    {\n      \"column\": \"Weekly_Sales\",\n      \"properties\": {\n        \"dtype\": \"number\",\n        \"std\": 26093.410409147218,\n        \"min\": -1098.0,\n        \"max\": 385051.04,\n        \"num_unique_values\": 64246,\n        \"samples\": [\n          38611.96,\n          6581.56\n        ],\n        \"semantic_type\": \"\",\n        \"description\": \"\"\n      }\n    }\n  ]\n}"
            }
          },
          "metadata": {},
          "execution_count": 9
        }
      ]
    },
    {
      "cell_type": "code",
      "source": [
        "stores_data = pd.merge(merged_df, data_stores, on='Store')\n",
        "stores_data.head()"
      ],
      "metadata": {
        "colab": {
          "base_uri": "https://localhost:8080/",
          "height": 226
        },
        "id": "Li2ECmam_3Fy",
        "outputId": "260f75b6-9b41-462f-ad38-29d82ea04634"
      },
      "execution_count": 10,
      "outputs": [
        {
          "output_type": "execute_result",
          "data": {
            "text/plain": [
              "   Store        Date  Temperature  Fuel_Price  MarkDown1  MarkDown2  \\\n",
              "0      1  05/02/2010        42.31       2.572        NaN        NaN   \n",
              "1      1  05/02/2010        42.31       2.572        NaN        NaN   \n",
              "2      1  05/02/2010        42.31       2.572        NaN        NaN   \n",
              "3      1  05/02/2010        42.31       2.572        NaN        NaN   \n",
              "4      1  05/02/2010        42.31       2.572        NaN        NaN   \n",
              "\n",
              "   MarkDown3  MarkDown4  MarkDown5         CPI  Unemployment IsHoliday  Dept  \\\n",
              "0        NaN        NaN        NaN  211.096358         8.106     False     1   \n",
              "1        NaN        NaN        NaN  211.096358         8.106     False     2   \n",
              "2        NaN        NaN        NaN  211.096358         8.106     False     3   \n",
              "3        NaN        NaN        NaN  211.096358         8.106     False     4   \n",
              "4        NaN        NaN        NaN  211.096358         8.106     False     5   \n",
              "\n",
              "   Weekly_Sales Type    Size  \n",
              "0      24924.50    A  151315  \n",
              "1      50605.27    A  151315  \n",
              "2      13740.12    A  151315  \n",
              "3      39954.04    A  151315  \n",
              "4      32229.38    A  151315  "
            ],
            "text/html": [
              "\n",
              "  <div id=\"df-e8be7e8e-2492-49eb-8879-492dbd0ece66\" class=\"colab-df-container\">\n",
              "    <div>\n",
              "<style scoped>\n",
              "    .dataframe tbody tr th:only-of-type {\n",
              "        vertical-align: middle;\n",
              "    }\n",
              "\n",
              "    .dataframe tbody tr th {\n",
              "        vertical-align: top;\n",
              "    }\n",
              "\n",
              "    .dataframe thead th {\n",
              "        text-align: right;\n",
              "    }\n",
              "</style>\n",
              "<table border=\"1\" class=\"dataframe\">\n",
              "  <thead>\n",
              "    <tr style=\"text-align: right;\">\n",
              "      <th></th>\n",
              "      <th>Store</th>\n",
              "      <th>Date</th>\n",
              "      <th>Temperature</th>\n",
              "      <th>Fuel_Price</th>\n",
              "      <th>MarkDown1</th>\n",
              "      <th>MarkDown2</th>\n",
              "      <th>MarkDown3</th>\n",
              "      <th>MarkDown4</th>\n",
              "      <th>MarkDown5</th>\n",
              "      <th>CPI</th>\n",
              "      <th>Unemployment</th>\n",
              "      <th>IsHoliday</th>\n",
              "      <th>Dept</th>\n",
              "      <th>Weekly_Sales</th>\n",
              "      <th>Type</th>\n",
              "      <th>Size</th>\n",
              "    </tr>\n",
              "  </thead>\n",
              "  <tbody>\n",
              "    <tr>\n",
              "      <th>0</th>\n",
              "      <td>1</td>\n",
              "      <td>05/02/2010</td>\n",
              "      <td>42.31</td>\n",
              "      <td>2.572</td>\n",
              "      <td>NaN</td>\n",
              "      <td>NaN</td>\n",
              "      <td>NaN</td>\n",
              "      <td>NaN</td>\n",
              "      <td>NaN</td>\n",
              "      <td>211.096358</td>\n",
              "      <td>8.106</td>\n",
              "      <td>False</td>\n",
              "      <td>1</td>\n",
              "      <td>24924.50</td>\n",
              "      <td>A</td>\n",
              "      <td>151315</td>\n",
              "    </tr>\n",
              "    <tr>\n",
              "      <th>1</th>\n",
              "      <td>1</td>\n",
              "      <td>05/02/2010</td>\n",
              "      <td>42.31</td>\n",
              "      <td>2.572</td>\n",
              "      <td>NaN</td>\n",
              "      <td>NaN</td>\n",
              "      <td>NaN</td>\n",
              "      <td>NaN</td>\n",
              "      <td>NaN</td>\n",
              "      <td>211.096358</td>\n",
              "      <td>8.106</td>\n",
              "      <td>False</td>\n",
              "      <td>2</td>\n",
              "      <td>50605.27</td>\n",
              "      <td>A</td>\n",
              "      <td>151315</td>\n",
              "    </tr>\n",
              "    <tr>\n",
              "      <th>2</th>\n",
              "      <td>1</td>\n",
              "      <td>05/02/2010</td>\n",
              "      <td>42.31</td>\n",
              "      <td>2.572</td>\n",
              "      <td>NaN</td>\n",
              "      <td>NaN</td>\n",
              "      <td>NaN</td>\n",
              "      <td>NaN</td>\n",
              "      <td>NaN</td>\n",
              "      <td>211.096358</td>\n",
              "      <td>8.106</td>\n",
              "      <td>False</td>\n",
              "      <td>3</td>\n",
              "      <td>13740.12</td>\n",
              "      <td>A</td>\n",
              "      <td>151315</td>\n",
              "    </tr>\n",
              "    <tr>\n",
              "      <th>3</th>\n",
              "      <td>1</td>\n",
              "      <td>05/02/2010</td>\n",
              "      <td>42.31</td>\n",
              "      <td>2.572</td>\n",
              "      <td>NaN</td>\n",
              "      <td>NaN</td>\n",
              "      <td>NaN</td>\n",
              "      <td>NaN</td>\n",
              "      <td>NaN</td>\n",
              "      <td>211.096358</td>\n",
              "      <td>8.106</td>\n",
              "      <td>False</td>\n",
              "      <td>4</td>\n",
              "      <td>39954.04</td>\n",
              "      <td>A</td>\n",
              "      <td>151315</td>\n",
              "    </tr>\n",
              "    <tr>\n",
              "      <th>4</th>\n",
              "      <td>1</td>\n",
              "      <td>05/02/2010</td>\n",
              "      <td>42.31</td>\n",
              "      <td>2.572</td>\n",
              "      <td>NaN</td>\n",
              "      <td>NaN</td>\n",
              "      <td>NaN</td>\n",
              "      <td>NaN</td>\n",
              "      <td>NaN</td>\n",
              "      <td>211.096358</td>\n",
              "      <td>8.106</td>\n",
              "      <td>False</td>\n",
              "      <td>5</td>\n",
              "      <td>32229.38</td>\n",
              "      <td>A</td>\n",
              "      <td>151315</td>\n",
              "    </tr>\n",
              "  </tbody>\n",
              "</table>\n",
              "</div>\n",
              "    <div class=\"colab-df-buttons\">\n",
              "\n",
              "  <div class=\"colab-df-container\">\n",
              "    <button class=\"colab-df-convert\" onclick=\"convertToInteractive('df-e8be7e8e-2492-49eb-8879-492dbd0ece66')\"\n",
              "            title=\"Convert this dataframe to an interactive table.\"\n",
              "            style=\"display:none;\">\n",
              "\n",
              "  <svg xmlns=\"http://www.w3.org/2000/svg\" height=\"24px\" viewBox=\"0 -960 960 960\">\n",
              "    <path d=\"M120-120v-720h720v720H120Zm60-500h600v-160H180v160Zm220 220h160v-160H400v160Zm0 220h160v-160H400v160ZM180-400h160v-160H180v160Zm440 0h160v-160H620v160ZM180-180h160v-160H180v160Zm440 0h160v-160H620v160Z\"/>\n",
              "  </svg>\n",
              "    </button>\n",
              "\n",
              "  <style>\n",
              "    .colab-df-container {\n",
              "      display:flex;\n",
              "      gap: 12px;\n",
              "    }\n",
              "\n",
              "    .colab-df-convert {\n",
              "      background-color: #E8F0FE;\n",
              "      border: none;\n",
              "      border-radius: 50%;\n",
              "      cursor: pointer;\n",
              "      display: none;\n",
              "      fill: #1967D2;\n",
              "      height: 32px;\n",
              "      padding: 0 0 0 0;\n",
              "      width: 32px;\n",
              "    }\n",
              "\n",
              "    .colab-df-convert:hover {\n",
              "      background-color: #E2EBFA;\n",
              "      box-shadow: 0px 1px 2px rgba(60, 64, 67, 0.3), 0px 1px 3px 1px rgba(60, 64, 67, 0.15);\n",
              "      fill: #174EA6;\n",
              "    }\n",
              "\n",
              "    .colab-df-buttons div {\n",
              "      margin-bottom: 4px;\n",
              "    }\n",
              "\n",
              "    [theme=dark] .colab-df-convert {\n",
              "      background-color: #3B4455;\n",
              "      fill: #D2E3FC;\n",
              "    }\n",
              "\n",
              "    [theme=dark] .colab-df-convert:hover {\n",
              "      background-color: #434B5C;\n",
              "      box-shadow: 0px 1px 3px 1px rgba(0, 0, 0, 0.15);\n",
              "      filter: drop-shadow(0px 1px 2px rgba(0, 0, 0, 0.3));\n",
              "      fill: #FFFFFF;\n",
              "    }\n",
              "  </style>\n",
              "\n",
              "    <script>\n",
              "      const buttonEl =\n",
              "        document.querySelector('#df-e8be7e8e-2492-49eb-8879-492dbd0ece66 button.colab-df-convert');\n",
              "      buttonEl.style.display =\n",
              "        google.colab.kernel.accessAllowed ? 'block' : 'none';\n",
              "\n",
              "      async function convertToInteractive(key) {\n",
              "        const element = document.querySelector('#df-e8be7e8e-2492-49eb-8879-492dbd0ece66');\n",
              "        const dataTable =\n",
              "          await google.colab.kernel.invokeFunction('convertToInteractive',\n",
              "                                                    [key], {});\n",
              "        if (!dataTable) return;\n",
              "\n",
              "        const docLinkHtml = 'Like what you see? Visit the ' +\n",
              "          '<a target=\"_blank\" href=https://colab.research.google.com/notebooks/data_table.ipynb>data table notebook</a>'\n",
              "          + ' to learn more about interactive tables.';\n",
              "        element.innerHTML = '';\n",
              "        dataTable['output_type'] = 'display_data';\n",
              "        await google.colab.output.renderOutput(dataTable, element);\n",
              "        const docLink = document.createElement('div');\n",
              "        docLink.innerHTML = docLinkHtml;\n",
              "        element.appendChild(docLink);\n",
              "      }\n",
              "    </script>\n",
              "  </div>\n",
              "\n",
              "\n",
              "<div id=\"df-2d30cb0e-a790-4151-abc8-75250a6fac06\">\n",
              "  <button class=\"colab-df-quickchart\" onclick=\"quickchart('df-2d30cb0e-a790-4151-abc8-75250a6fac06')\"\n",
              "            title=\"Suggest charts\"\n",
              "            style=\"display:none;\">\n",
              "\n",
              "<svg xmlns=\"http://www.w3.org/2000/svg\" height=\"24px\"viewBox=\"0 0 24 24\"\n",
              "     width=\"24px\">\n",
              "    <g>\n",
              "        <path d=\"M19 3H5c-1.1 0-2 .9-2 2v14c0 1.1.9 2 2 2h14c1.1 0 2-.9 2-2V5c0-1.1-.9-2-2-2zM9 17H7v-7h2v7zm4 0h-2V7h2v10zm4 0h-2v-4h2v4z\"/>\n",
              "    </g>\n",
              "</svg>\n",
              "  </button>\n",
              "\n",
              "<style>\n",
              "  .colab-df-quickchart {\n",
              "      --bg-color: #E8F0FE;\n",
              "      --fill-color: #1967D2;\n",
              "      --hover-bg-color: #E2EBFA;\n",
              "      --hover-fill-color: #174EA6;\n",
              "      --disabled-fill-color: #AAA;\n",
              "      --disabled-bg-color: #DDD;\n",
              "  }\n",
              "\n",
              "  [theme=dark] .colab-df-quickchart {\n",
              "      --bg-color: #3B4455;\n",
              "      --fill-color: #D2E3FC;\n",
              "      --hover-bg-color: #434B5C;\n",
              "      --hover-fill-color: #FFFFFF;\n",
              "      --disabled-bg-color: #3B4455;\n",
              "      --disabled-fill-color: #666;\n",
              "  }\n",
              "\n",
              "  .colab-df-quickchart {\n",
              "    background-color: var(--bg-color);\n",
              "    border: none;\n",
              "    border-radius: 50%;\n",
              "    cursor: pointer;\n",
              "    display: none;\n",
              "    fill: var(--fill-color);\n",
              "    height: 32px;\n",
              "    padding: 0;\n",
              "    width: 32px;\n",
              "  }\n",
              "\n",
              "  .colab-df-quickchart:hover {\n",
              "    background-color: var(--hover-bg-color);\n",
              "    box-shadow: 0 1px 2px rgba(60, 64, 67, 0.3), 0 1px 3px 1px rgba(60, 64, 67, 0.15);\n",
              "    fill: var(--button-hover-fill-color);\n",
              "  }\n",
              "\n",
              "  .colab-df-quickchart-complete:disabled,\n",
              "  .colab-df-quickchart-complete:disabled:hover {\n",
              "    background-color: var(--disabled-bg-color);\n",
              "    fill: var(--disabled-fill-color);\n",
              "    box-shadow: none;\n",
              "  }\n",
              "\n",
              "  .colab-df-spinner {\n",
              "    border: 2px solid var(--fill-color);\n",
              "    border-color: transparent;\n",
              "    border-bottom-color: var(--fill-color);\n",
              "    animation:\n",
              "      spin 1s steps(1) infinite;\n",
              "  }\n",
              "\n",
              "  @keyframes spin {\n",
              "    0% {\n",
              "      border-color: transparent;\n",
              "      border-bottom-color: var(--fill-color);\n",
              "      border-left-color: var(--fill-color);\n",
              "    }\n",
              "    20% {\n",
              "      border-color: transparent;\n",
              "      border-left-color: var(--fill-color);\n",
              "      border-top-color: var(--fill-color);\n",
              "    }\n",
              "    30% {\n",
              "      border-color: transparent;\n",
              "      border-left-color: var(--fill-color);\n",
              "      border-top-color: var(--fill-color);\n",
              "      border-right-color: var(--fill-color);\n",
              "    }\n",
              "    40% {\n",
              "      border-color: transparent;\n",
              "      border-right-color: var(--fill-color);\n",
              "      border-top-color: var(--fill-color);\n",
              "    }\n",
              "    60% {\n",
              "      border-color: transparent;\n",
              "      border-right-color: var(--fill-color);\n",
              "    }\n",
              "    80% {\n",
              "      border-color: transparent;\n",
              "      border-right-color: var(--fill-color);\n",
              "      border-bottom-color: var(--fill-color);\n",
              "    }\n",
              "    90% {\n",
              "      border-color: transparent;\n",
              "      border-bottom-color: var(--fill-color);\n",
              "    }\n",
              "  }\n",
              "</style>\n",
              "\n",
              "  <script>\n",
              "    async function quickchart(key) {\n",
              "      const quickchartButtonEl =\n",
              "        document.querySelector('#' + key + ' button');\n",
              "      quickchartButtonEl.disabled = true;  // To prevent multiple clicks.\n",
              "      quickchartButtonEl.classList.add('colab-df-spinner');\n",
              "      try {\n",
              "        const charts = await google.colab.kernel.invokeFunction(\n",
              "            'suggestCharts', [key], {});\n",
              "      } catch (error) {\n",
              "        console.error('Error during call to suggestCharts:', error);\n",
              "      }\n",
              "      quickchartButtonEl.classList.remove('colab-df-spinner');\n",
              "      quickchartButtonEl.classList.add('colab-df-quickchart-complete');\n",
              "    }\n",
              "    (() => {\n",
              "      let quickchartButtonEl =\n",
              "        document.querySelector('#df-2d30cb0e-a790-4151-abc8-75250a6fac06 button');\n",
              "      quickchartButtonEl.style.display =\n",
              "        google.colab.kernel.accessAllowed ? 'block' : 'none';\n",
              "    })();\n",
              "  </script>\n",
              "</div>\n",
              "\n",
              "    </div>\n",
              "  </div>\n"
            ],
            "application/vnd.google.colaboratory.intrinsic+json": {
              "type": "dataframe",
              "variable_name": "stores_data",
              "summary": "{\n  \"name\": \"stores_data\",\n  \"rows\": 68266,\n  \"fields\": [\n    {\n      \"column\": \"Store\",\n      \"properties\": {\n        \"dtype\": \"number\",\n        \"std\": 2,\n        \"min\": 1,\n        \"max\": 7,\n        \"num_unique_values\": 7,\n        \"samples\": [\n          1,\n          2,\n          6\n        ],\n        \"semantic_type\": \"\",\n        \"description\": \"\"\n      }\n    },\n    {\n      \"column\": \"Date\",\n      \"properties\": {\n        \"dtype\": \"category\",\n        \"num_unique_values\": 143,\n        \"samples\": [\n          \"04/05/2012\",\n          \"18/06/2010\",\n          \"02/09/2011\"\n        ],\n        \"semantic_type\": \"\",\n        \"description\": \"\"\n      }\n    },\n    {\n      \"column\": \"Temperature\",\n      \"properties\": {\n        \"dtype\": \"number\",\n        \"std\": 17.937090062052366,\n        \"min\": -2.06,\n        \"max\": 93.34,\n        \"num_unique_values\": 926,\n        \"samples\": [\n          68.71,\n          70.71,\n          81.21\n        ],\n        \"semantic_type\": \"\",\n        \"description\": \"\"\n      }\n    },\n    {\n      \"column\": \"Fuel_Price\",\n      \"properties\": {\n        \"dtype\": \"number\",\n        \"std\": 0.42452106023918107,\n        \"min\": 2.514,\n        \"max\": 3.936,\n        \"num_unique_values\": 357,\n        \"samples\": [\n          3.541,\n          2.708,\n          3.611\n        ],\n        \"semantic_type\": \"\",\n        \"description\": \"\"\n      }\n    },\n    {\n      \"column\": \"MarkDown1\",\n      \"properties\": {\n        \"dtype\": \"number\",\n        \"std\": 7988.962896906546,\n        \"min\": 35.94,\n        \"max\": 75149.79,\n        \"num_unique_values\": 357,\n        \"samples\": [\n          1879.87,\n          21442.73,\n          3762.14\n        ],\n        \"semantic_type\": \"\",\n        \"description\": \"\"\n      }\n    },\n    {\n      \"column\": \"MarkDown2\",\n      \"properties\": {\n        \"dtype\": \"number\",\n        \"std\": 10287.325955270513,\n        \"min\": -10.98,\n        \"max\": 92523.94,\n        \"num_unique_values\": 268,\n        \"samples\": [\n          28.4,\n          57.72,\n          612.02\n        ],\n        \"semantic_type\": \"\",\n        \"description\": \"\"\n      }\n    },\n    {\n      \"column\": \"MarkDown3\",\n      \"properties\": {\n        \"dtype\": \"number\",\n        \"std\": 9131.936395502098,\n        \"min\": 0.01,\n        \"max\": 83340.33,\n        \"num_unique_values\": 315,\n        \"samples\": [\n          42.75,\n          192.83,\n          99.91\n        ],\n        \"semantic_type\": \"\",\n        \"description\": \"\"\n      }\n    },\n    {\n      \"column\": \"MarkDown4\",\n      \"properties\": {\n        \"dtype\": \"number\",\n        \"std\": 5569.853127970849,\n        \"min\": 4.0,\n        \"max\": 48159.86,\n        \"num_unique_values\": 350,\n        \"samples\": [\n          52.0,\n          2482.01,\n          15505.0\n        ],\n        \"semantic_type\": \"\",\n        \"description\": \"\"\n      }\n    },\n    {\n      \"column\": \"MarkDown5\",\n      \"properties\": {\n        \"dtype\": \"number\",\n        \"std\": 4994.378866400414,\n        \"min\": 135.16,\n        \"max\": 57029.78,\n        \"num_unique_values\": 357,\n        \"samples\": [\n          1765.08,\n          3032.96,\n          7560.36\n        ],\n        \"semantic_type\": \"\",\n        \"description\": \"\"\n      }\n    },\n    {\n      \"column\": \"CPI\",\n      \"properties\": {\n        \"dtype\": \"number\",\n        \"std\": 31.51780825690186,\n        \"min\": 126.064,\n        \"max\": 226.9873637,\n        \"num_unique_values\": 1001,\n        \"samples\": [\n          129.8167097,\n          194.6387853,\n          213.0311188\n        ],\n        \"semantic_type\": \"\",\n        \"description\": \"\"\n      }\n    },\n    {\n      \"column\": \"Unemployment\",\n      \"properties\": {\n        \"dtype\": \"number\",\n        \"std\": 1.0909868648228656,\n        \"min\": 3.879,\n        \"max\": 9.137,\n        \"num_unique_values\": 84,\n        \"samples\": [\n          8.963,\n          8.106,\n          5.603\n        ],\n        \"semantic_type\": \"\",\n        \"description\": \"\"\n      }\n    },\n    {\n      \"column\": \"IsHoliday\",\n      \"properties\": {\n        \"dtype\": \"category\",\n        \"num_unique_values\": 2,\n        \"samples\": [\n          true,\n          false\n        ],\n        \"semantic_type\": \"\",\n        \"description\": \"\"\n      }\n    },\n    {\n      \"column\": \"Dept\",\n      \"properties\": {\n        \"dtype\": \"number\",\n        \"std\": 29,\n        \"min\": 1,\n        \"max\": 99,\n        \"num_unique_values\": 78,\n        \"samples\": [\n          35,\n          1\n        ],\n        \"semantic_type\": \"\",\n        \"description\": \"\"\n      }\n    },\n    {\n      \"column\": \"Weekly_Sales\",\n      \"properties\": {\n        \"dtype\": \"number\",\n        \"std\": 26093.410409147218,\n        \"min\": -1098.0,\n        \"max\": 385051.04,\n        \"num_unique_values\": 64246,\n        \"samples\": [\n          38611.96,\n          6581.56\n        ],\n        \"semantic_type\": \"\",\n        \"description\": \"\"\n      }\n    },\n    {\n      \"column\": \"Type\",\n      \"properties\": {\n        \"dtype\": \"category\",\n        \"num_unique_values\": 2,\n        \"samples\": [\n          \"B\",\n          \"A\"\n        ],\n        \"semantic_type\": \"\",\n        \"description\": \"\"\n      }\n    },\n    {\n      \"column\": \"Size\",\n      \"properties\": {\n        \"dtype\": \"number\",\n        \"std\": 72786,\n        \"min\": 34875,\n        \"max\": 205863,\n        \"num_unique_values\": 7,\n        \"samples\": [\n          151315,\n          202307\n        ],\n        \"semantic_type\": \"\",\n        \"description\": \"\"\n      }\n    }\n  ]\n}"
            }
          },
          "metadata": {},
          "execution_count": 10
        }
      ]
    },
    {
      "cell_type": "code",
      "source": [
        "stores_data.shape"
      ],
      "metadata": {
        "colab": {
          "base_uri": "https://localhost:8080/"
        },
        "id": "cz1Yb9kFYs0T",
        "outputId": "992ea95b-ca34-4d33-a637-9218b660d870"
      },
      "execution_count": 11,
      "outputs": [
        {
          "output_type": "execute_result",
          "data": {
            "text/plain": [
              "(68266, 16)"
            ]
          },
          "metadata": {},
          "execution_count": 11
        }
      ]
    },
    {
      "cell_type": "code",
      "source": [
        "stores_data.isnull().sum()"
      ],
      "metadata": {
        "colab": {
          "base_uri": "https://localhost:8080/"
        },
        "id": "-s4WcAEH-Efg",
        "outputId": "e56d7dd4-790a-4f07-ba5b-4263a8038b05"
      },
      "execution_count": 12,
      "outputs": [
        {
          "output_type": "execute_result",
          "data": {
            "text/plain": [
              "Store               0\n",
              "Date                0\n",
              "Temperature         0\n",
              "Fuel_Price          0\n",
              "MarkDown1       43849\n",
              "MarkDown2       48750\n",
              "MarkDown3       45349\n",
              "MarkDown4       44182\n",
              "MarkDown5       43849\n",
              "CPI                 0\n",
              "Unemployment        0\n",
              "IsHoliday           0\n",
              "Dept                0\n",
              "Weekly_Sales        0\n",
              "Type                0\n",
              "Size                0\n",
              "dtype: int64"
            ]
          },
          "metadata": {},
          "execution_count": 12
        }
      ]
    },
    {
      "cell_type": "markdown",
      "source": [
        "# DATA CLEANING"
      ],
      "metadata": {
        "id": "BSDYMIdY8ZE6"
      }
    },
    {
      "cell_type": "markdown",
      "source": [
        "##stores_data"
      ],
      "metadata": {
        "id": "yFyc500MAztJ"
      }
    },
    {
      "cell_type": "markdown",
      "source": [
        "shape\n",
        "dtype\n",
        "null\n",
        "describe\n",
        "duplicates"
      ],
      "metadata": {
        "id": "T_c65N_A8zNF"
      }
    },
    {
      "cell_type": "code",
      "source": [
        "stores_data.shape"
      ],
      "metadata": {
        "id": "yqA5vWZu7Oc3",
        "colab": {
          "base_uri": "https://localhost:8080/"
        },
        "outputId": "b8bcc7f4-cfea-46d0-c985-0636dc5e7053"
      },
      "execution_count": 13,
      "outputs": [
        {
          "output_type": "execute_result",
          "data": {
            "text/plain": [
              "(68266, 16)"
            ]
          },
          "metadata": {},
          "execution_count": 13
        }
      ]
    },
    {
      "cell_type": "code",
      "source": [
        "stores_data.dtypes"
      ],
      "metadata": {
        "id": "1ETckvA0A_Kw",
        "colab": {
          "base_uri": "https://localhost:8080/"
        },
        "outputId": "bb58bbd0-da1d-4094-f01a-4216b8cd03d4"
      },
      "execution_count": 14,
      "outputs": [
        {
          "output_type": "execute_result",
          "data": {
            "text/plain": [
              "Store             int64\n",
              "Date             object\n",
              "Temperature     float64\n",
              "Fuel_Price      float64\n",
              "MarkDown1       float64\n",
              "MarkDown2       float64\n",
              "MarkDown3       float64\n",
              "MarkDown4       float64\n",
              "MarkDown5       float64\n",
              "CPI             float64\n",
              "Unemployment    float64\n",
              "IsHoliday        object\n",
              "Dept              int64\n",
              "Weekly_Sales    float64\n",
              "Type             object\n",
              "Size              int64\n",
              "dtype: object"
            ]
          },
          "metadata": {},
          "execution_count": 14
        }
      ]
    },
    {
      "cell_type": "code",
      "source": [
        "stores_data.columns"
      ],
      "metadata": {
        "id": "uwYVAeuc8Add",
        "colab": {
          "base_uri": "https://localhost:8080/"
        },
        "outputId": "51406570-c940-4b4d-c62d-72b5b4e09e8b"
      },
      "execution_count": 15,
      "outputs": [
        {
          "output_type": "execute_result",
          "data": {
            "text/plain": [
              "Index(['Store', 'Date', 'Temperature', 'Fuel_Price', 'MarkDown1', 'MarkDown2',\n",
              "       'MarkDown3', 'MarkDown4', 'MarkDown5', 'CPI', 'Unemployment',\n",
              "       'IsHoliday', 'Dept', 'Weekly_Sales', 'Type', 'Size'],\n",
              "      dtype='object')"
            ]
          },
          "metadata": {},
          "execution_count": 15
        }
      ]
    },
    {
      "cell_type": "markdown",
      "source": [
        "###store"
      ],
      "metadata": {
        "id": "eR6BoYwA9A9N"
      }
    },
    {
      "cell_type": "code",
      "source": [
        "stores_data.Store.dtype"
      ],
      "metadata": {
        "id": "vWpYxHoU-Dy2",
        "colab": {
          "base_uri": "https://localhost:8080/"
        },
        "outputId": "79166f79-d970-4b2a-9fd8-ba72bc965b97"
      },
      "execution_count": 16,
      "outputs": [
        {
          "output_type": "execute_result",
          "data": {
            "text/plain": [
              "dtype('int64')"
            ]
          },
          "metadata": {},
          "execution_count": 16
        }
      ]
    },
    {
      "cell_type": "code",
      "source": [
        "stores_data.Store.isnull().sum()"
      ],
      "metadata": {
        "colab": {
          "base_uri": "https://localhost:8080/"
        },
        "id": "VMltBzuj8DHT",
        "outputId": "75dd94bd-7656-42ff-efba-d2cbb88ca918"
      },
      "execution_count": 17,
      "outputs": [
        {
          "output_type": "execute_result",
          "data": {
            "text/plain": [
              "0"
            ]
          },
          "metadata": {},
          "execution_count": 17
        }
      ]
    },
    {
      "cell_type": "code",
      "source": [
        "stores_data.Store.describe()"
      ],
      "metadata": {
        "id": "XOoj3Itv8N8a",
        "colab": {
          "base_uri": "https://localhost:8080/"
        },
        "outputId": "670e2870-688c-42f5-d06f-ab05d0724520"
      },
      "execution_count": 18,
      "outputs": [
        {
          "output_type": "execute_result",
          "data": {
            "text/plain": [
              "count    68266.000000\n",
              "mean         3.955688\n",
              "std          2.008139\n",
              "min          1.000000\n",
              "25%          2.000000\n",
              "50%          4.000000\n",
              "75%          6.000000\n",
              "max          7.000000\n",
              "Name: Store, dtype: float64"
            ]
          },
          "metadata": {},
          "execution_count": 18
        }
      ]
    },
    {
      "cell_type": "code",
      "source": [
        "stores_data.Store.unique()"
      ],
      "metadata": {
        "colab": {
          "base_uri": "https://localhost:8080/"
        },
        "id": "JWc-b3iXXVvy",
        "outputId": "aee844d1-0b07-4e4e-8e8c-637e4259994a"
      },
      "execution_count": 19,
      "outputs": [
        {
          "output_type": "execute_result",
          "data": {
            "text/plain": [
              "array([1, 2, 3, 4, 5, 6, 7])"
            ]
          },
          "metadata": {},
          "execution_count": 19
        }
      ]
    },
    {
      "cell_type": "code",
      "source": [
        "stores_data.Store.value_counts()"
      ],
      "metadata": {
        "colab": {
          "base_uri": "https://localhost:8080/"
        },
        "id": "afoPfys24DfE",
        "outputId": "a415ef46-aaec-47b7-eec7-bb147e9b3d2e"
      },
      "execution_count": 20,
      "outputs": [
        {
          "output_type": "execute_result",
          "data": {
            "text/plain": [
              "Store\n",
              "4    10272\n",
              "1    10244\n",
              "2    10238\n",
              "6    10211\n",
              "7     9266\n",
              "3     9036\n",
              "5     8999\n",
              "Name: count, dtype: int64"
            ]
          },
          "metadata": {},
          "execution_count": 20
        }
      ]
    },
    {
      "cell_type": "markdown",
      "source": [
        "IQR"
      ],
      "metadata": {
        "id": "Yk1ltdcF94dr"
      }
    },
    {
      "cell_type": "code",
      "source": [
        "q3 = stores_data.Store.quantile(.75)\n",
        "q1 = stores_data.Store.quantile(.25)\n",
        "iqr = q3 - q1\n",
        "\n",
        "upper_threshold = q3 + (1.5 * iqr)\n",
        "lower_threshold = q1 - (1.5 * iqr)\n",
        "\n",
        "upper_threshold, lower_threshold"
      ],
      "metadata": {
        "id": "jU00CyCt94GT",
        "colab": {
          "base_uri": "https://localhost:8080/"
        },
        "outputId": "fcd159db-51ba-4c3d-ac62-532f420e7e4b"
      },
      "execution_count": 21,
      "outputs": [
        {
          "output_type": "execute_result",
          "data": {
            "text/plain": [
              "(12.0, -4.0)"
            ]
          },
          "metadata": {},
          "execution_count": 21
        }
      ]
    },
    {
      "cell_type": "markdown",
      "source": [
        "###Date"
      ],
      "metadata": {
        "id": "UPP7_E9m_mOV"
      }
    },
    {
      "cell_type": "code",
      "source": [
        "stores_data.Date.value_counts()"
      ],
      "metadata": {
        "colab": {
          "base_uri": "https://localhost:8080/"
        },
        "id": "Egq_2CMY4rt0",
        "outputId": "01410adb-6eb6-432b-f202-bc2d7f262c15"
      },
      "execution_count": 22,
      "outputs": [
        {
          "output_type": "execute_result",
          "data": {
            "text/plain": [
              "Date\n",
              "23/12/2011    493\n",
              "25/11/2011    491\n",
              "30/12/2011    490\n",
              "17/02/2012    489\n",
              "19/02/2010    489\n",
              "             ... \n",
              "05/08/2011    467\n",
              "08/07/2011    467\n",
              "29/07/2011    465\n",
              "16/07/2010    465\n",
              "22/07/2011    464\n",
              "Name: count, Length: 143, dtype: int64"
            ]
          },
          "metadata": {},
          "execution_count": 22
        }
      ]
    },
    {
      "cell_type": "code",
      "source": [
        "##\n",
        "#stores_data.Date.loc[(stores_data.Date == 05/02/2010), :]"
      ],
      "metadata": {
        "id": "qfswSlqj2o8c"
      },
      "execution_count": null,
      "outputs": []
    },
    {
      "cell_type": "code",
      "source": [
        "stores_data.Date.isnull().sum()"
      ],
      "metadata": {
        "id": "P3XEMYNc_QZL",
        "colab": {
          "base_uri": "https://localhost:8080/"
        },
        "outputId": "797c5405-0940-4f00-e433-685cc327e556"
      },
      "execution_count": 23,
      "outputs": [
        {
          "output_type": "execute_result",
          "data": {
            "text/plain": [
              "0"
            ]
          },
          "metadata": {},
          "execution_count": 23
        }
      ]
    },
    {
      "cell_type": "code",
      "source": [
        "stores_data.Date.describe()"
      ],
      "metadata": {
        "id": "7mHIrcNU_uky",
        "colab": {
          "base_uri": "https://localhost:8080/"
        },
        "outputId": "e44cfb36-01b9-4e76-c3e7-df77a801c6b9"
      },
      "execution_count": 24,
      "outputs": [
        {
          "output_type": "execute_result",
          "data": {
            "text/plain": [
              "count          68266\n",
              "unique           143\n",
              "top       23/12/2011\n",
              "freq             493\n",
              "Name: Date, dtype: object"
            ]
          },
          "metadata": {},
          "execution_count": 24
        }
      ]
    },
    {
      "cell_type": "markdown",
      "source": [
        "###Temperature"
      ],
      "metadata": {
        "id": "ME4joIINCRxq"
      }
    },
    {
      "cell_type": "code",
      "source": [
        "stores_data.Temperature.isnull().sum()"
      ],
      "metadata": {
        "id": "qbk7oQojCnqK",
        "colab": {
          "base_uri": "https://localhost:8080/"
        },
        "outputId": "0c1cc5c4-b927-47e1-afb4-97eac225f0c6"
      },
      "execution_count": 25,
      "outputs": [
        {
          "output_type": "execute_result",
          "data": {
            "text/plain": [
              "0"
            ]
          },
          "metadata": {},
          "execution_count": 25
        }
      ]
    },
    {
      "cell_type": "code",
      "source": [
        "stores_data.Temperature.describe()"
      ],
      "metadata": {
        "id": "pA6G5LxiCuGZ",
        "colab": {
          "base_uri": "https://localhost:8080/"
        },
        "outputId": "365a9811-10f9-4ffa-d6cd-735caf0ac028"
      },
      "execution_count": 26,
      "outputs": [
        {
          "output_type": "execute_result",
          "data": {
            "text/plain": [
              "count    68266.000000\n",
              "mean        64.155584\n",
              "std         17.937090\n",
              "min         -2.060000\n",
              "25%         51.450000\n",
              "50%         66.830000\n",
              "75%         79.780000\n",
              "max         93.340000\n",
              "Name: Temperature, dtype: float64"
            ]
          },
          "metadata": {},
          "execution_count": 26
        }
      ]
    },
    {
      "cell_type": "code",
      "source": [
        "q3 = stores_data.Temperature.quantile(.75)\n",
        "q1 = stores_data.Temperature.quantile(.25)\n",
        "iqr = q3 - q1\n",
        "\n",
        "upper_threshold = q3 + (1.5 * iqr)\n",
        "lower_threshold = q1 - (1.5 * iqr)\n",
        "\n",
        "lower_threshold, upper_threshold"
      ],
      "metadata": {
        "id": "krMIvxwNCzvh",
        "colab": {
          "base_uri": "https://localhost:8080/"
        },
        "outputId": "a84a90c7-6a64-4282-d73c-7a565baf9aa8"
      },
      "execution_count": 27,
      "outputs": [
        {
          "output_type": "execute_result",
          "data": {
            "text/plain": [
              "(8.955000000000005, 122.275)"
            ]
          },
          "metadata": {},
          "execution_count": 27
        }
      ]
    },
    {
      "cell_type": "code",
      "source": [
        "sum(stores_data.Temperature < lower_threshold )"
      ],
      "metadata": {
        "colab": {
          "base_uri": "https://localhost:8080/"
        },
        "id": "xbrCn2sSsyJM",
        "outputId": "df9824a8-aa53-463c-d383-8d1bedc2d47e"
      },
      "execution_count": 28,
      "outputs": [
        {
          "output_type": "execute_result",
          "data": {
            "text/plain": [
              "131"
            ]
          },
          "metadata": {},
          "execution_count": 28
        }
      ]
    },
    {
      "cell_type": "code",
      "source": [
        "stores_data.loc[(stores_data.Temperature < lower_threshold),:]"
      ],
      "metadata": {
        "colab": {
          "base_uri": "https://localhost:8080/",
          "height": 443
        },
        "id": "PoH8n9AjqdKO",
        "outputId": "8deb736c-f783-408b-ba42-9e59f412c7dc"
      },
      "execution_count": 29,
      "outputs": [
        {
          "output_type": "execute_result",
          "data": {
            "text/plain": [
              "       Store        Date  Temperature  Fuel_Price  MarkDown1  MarkDown2  \\\n",
              "62399      7  04/02/2011        -2.06       3.011        NaN        NaN   \n",
              "62400      7  04/02/2011        -2.06       3.011        NaN        NaN   \n",
              "62401      7  04/02/2011        -2.06       3.011        NaN        NaN   \n",
              "62402      7  04/02/2011        -2.06       3.011        NaN        NaN   \n",
              "62403      7  04/02/2011        -2.06       3.011        NaN        NaN   \n",
              "...      ...         ...          ...         ...        ...        ...   \n",
              "65616      7  13/01/2012         7.46       3.077    3167.26    5926.48   \n",
              "65617      7  13/01/2012         7.46       3.077    3167.26    5926.48   \n",
              "65618      7  13/01/2012         7.46       3.077    3167.26    5926.48   \n",
              "65619      7  13/01/2012         7.46       3.077    3167.26    5926.48   \n",
              "65620      7  13/01/2012         7.46       3.077    3167.26    5926.48   \n",
              "\n",
              "       MarkDown3  MarkDown4  MarkDown5         CPI  Unemployment IsHoliday  \\\n",
              "62399        NaN        NaN        NaN  191.762589         8.818     False   \n",
              "62400        NaN        NaN        NaN  191.762589         8.818     False   \n",
              "62401        NaN        NaN        NaN  191.762589         8.818     False   \n",
              "62402        NaN        NaN        NaN  191.762589         8.818     False   \n",
              "62403        NaN        NaN        NaN  191.762589         8.818     False   \n",
              "...          ...        ...        ...         ...           ...       ...   \n",
              "65616       0.54     191.84    1415.69  196.733052         8.256     False   \n",
              "65617       0.54     191.84    1415.69  196.733052         8.256     False   \n",
              "65618       0.54     191.84    1415.69  196.733052         8.256     False   \n",
              "65619       0.54     191.84    1415.69  196.733052         8.256     False   \n",
              "65620       0.54     191.84    1415.69  196.733052         8.256     False   \n",
              "\n",
              "       Dept  Weekly_Sales Type   Size  \n",
              "62399     1       8976.04    B  70713  \n",
              "62400     2      21568.46    B  70713  \n",
              "62401     3       7555.18    B  70713  \n",
              "62402     4      15306.89    B  70713  \n",
              "62403     5      12835.06    B  70713  \n",
              "...     ...           ...  ...    ...  \n",
              "65616    90      20026.04    B  70713  \n",
              "65617    91      15316.53    B  70713  \n",
              "65618    92      34372.75    B  70713  \n",
              "65619    93       2317.76    B  70713  \n",
              "65620    94         42.66    B  70713  \n",
              "\n",
              "[131 rows x 16 columns]"
            ],
            "text/html": [
              "\n",
              "  <div id=\"df-9e58ae73-a95f-46ae-a6ab-ce4c4f6dba0b\" class=\"colab-df-container\">\n",
              "    <div>\n",
              "<style scoped>\n",
              "    .dataframe tbody tr th:only-of-type {\n",
              "        vertical-align: middle;\n",
              "    }\n",
              "\n",
              "    .dataframe tbody tr th {\n",
              "        vertical-align: top;\n",
              "    }\n",
              "\n",
              "    .dataframe thead th {\n",
              "        text-align: right;\n",
              "    }\n",
              "</style>\n",
              "<table border=\"1\" class=\"dataframe\">\n",
              "  <thead>\n",
              "    <tr style=\"text-align: right;\">\n",
              "      <th></th>\n",
              "      <th>Store</th>\n",
              "      <th>Date</th>\n",
              "      <th>Temperature</th>\n",
              "      <th>Fuel_Price</th>\n",
              "      <th>MarkDown1</th>\n",
              "      <th>MarkDown2</th>\n",
              "      <th>MarkDown3</th>\n",
              "      <th>MarkDown4</th>\n",
              "      <th>MarkDown5</th>\n",
              "      <th>CPI</th>\n",
              "      <th>Unemployment</th>\n",
              "      <th>IsHoliday</th>\n",
              "      <th>Dept</th>\n",
              "      <th>Weekly_Sales</th>\n",
              "      <th>Type</th>\n",
              "      <th>Size</th>\n",
              "    </tr>\n",
              "  </thead>\n",
              "  <tbody>\n",
              "    <tr>\n",
              "      <th>62399</th>\n",
              "      <td>7</td>\n",
              "      <td>04/02/2011</td>\n",
              "      <td>-2.06</td>\n",
              "      <td>3.011</td>\n",
              "      <td>NaN</td>\n",
              "      <td>NaN</td>\n",
              "      <td>NaN</td>\n",
              "      <td>NaN</td>\n",
              "      <td>NaN</td>\n",
              "      <td>191.762589</td>\n",
              "      <td>8.818</td>\n",
              "      <td>False</td>\n",
              "      <td>1</td>\n",
              "      <td>8976.04</td>\n",
              "      <td>B</td>\n",
              "      <td>70713</td>\n",
              "    </tr>\n",
              "    <tr>\n",
              "      <th>62400</th>\n",
              "      <td>7</td>\n",
              "      <td>04/02/2011</td>\n",
              "      <td>-2.06</td>\n",
              "      <td>3.011</td>\n",
              "      <td>NaN</td>\n",
              "      <td>NaN</td>\n",
              "      <td>NaN</td>\n",
              "      <td>NaN</td>\n",
              "      <td>NaN</td>\n",
              "      <td>191.762589</td>\n",
              "      <td>8.818</td>\n",
              "      <td>False</td>\n",
              "      <td>2</td>\n",
              "      <td>21568.46</td>\n",
              "      <td>B</td>\n",
              "      <td>70713</td>\n",
              "    </tr>\n",
              "    <tr>\n",
              "      <th>62401</th>\n",
              "      <td>7</td>\n",
              "      <td>04/02/2011</td>\n",
              "      <td>-2.06</td>\n",
              "      <td>3.011</td>\n",
              "      <td>NaN</td>\n",
              "      <td>NaN</td>\n",
              "      <td>NaN</td>\n",
              "      <td>NaN</td>\n",
              "      <td>NaN</td>\n",
              "      <td>191.762589</td>\n",
              "      <td>8.818</td>\n",
              "      <td>False</td>\n",
              "      <td>3</td>\n",
              "      <td>7555.18</td>\n",
              "      <td>B</td>\n",
              "      <td>70713</td>\n",
              "    </tr>\n",
              "    <tr>\n",
              "      <th>62402</th>\n",
              "      <td>7</td>\n",
              "      <td>04/02/2011</td>\n",
              "      <td>-2.06</td>\n",
              "      <td>3.011</td>\n",
              "      <td>NaN</td>\n",
              "      <td>NaN</td>\n",
              "      <td>NaN</td>\n",
              "      <td>NaN</td>\n",
              "      <td>NaN</td>\n",
              "      <td>191.762589</td>\n",
              "      <td>8.818</td>\n",
              "      <td>False</td>\n",
              "      <td>4</td>\n",
              "      <td>15306.89</td>\n",
              "      <td>B</td>\n",
              "      <td>70713</td>\n",
              "    </tr>\n",
              "    <tr>\n",
              "      <th>62403</th>\n",
              "      <td>7</td>\n",
              "      <td>04/02/2011</td>\n",
              "      <td>-2.06</td>\n",
              "      <td>3.011</td>\n",
              "      <td>NaN</td>\n",
              "      <td>NaN</td>\n",
              "      <td>NaN</td>\n",
              "      <td>NaN</td>\n",
              "      <td>NaN</td>\n",
              "      <td>191.762589</td>\n",
              "      <td>8.818</td>\n",
              "      <td>False</td>\n",
              "      <td>5</td>\n",
              "      <td>12835.06</td>\n",
              "      <td>B</td>\n",
              "      <td>70713</td>\n",
              "    </tr>\n",
              "    <tr>\n",
              "      <th>...</th>\n",
              "      <td>...</td>\n",
              "      <td>...</td>\n",
              "      <td>...</td>\n",
              "      <td>...</td>\n",
              "      <td>...</td>\n",
              "      <td>...</td>\n",
              "      <td>...</td>\n",
              "      <td>...</td>\n",
              "      <td>...</td>\n",
              "      <td>...</td>\n",
              "      <td>...</td>\n",
              "      <td>...</td>\n",
              "      <td>...</td>\n",
              "      <td>...</td>\n",
              "      <td>...</td>\n",
              "      <td>...</td>\n",
              "    </tr>\n",
              "    <tr>\n",
              "      <th>65616</th>\n",
              "      <td>7</td>\n",
              "      <td>13/01/2012</td>\n",
              "      <td>7.46</td>\n",
              "      <td>3.077</td>\n",
              "      <td>3167.26</td>\n",
              "      <td>5926.48</td>\n",
              "      <td>0.54</td>\n",
              "      <td>191.84</td>\n",
              "      <td>1415.69</td>\n",
              "      <td>196.733052</td>\n",
              "      <td>8.256</td>\n",
              "      <td>False</td>\n",
              "      <td>90</td>\n",
              "      <td>20026.04</td>\n",
              "      <td>B</td>\n",
              "      <td>70713</td>\n",
              "    </tr>\n",
              "    <tr>\n",
              "      <th>65617</th>\n",
              "      <td>7</td>\n",
              "      <td>13/01/2012</td>\n",
              "      <td>7.46</td>\n",
              "      <td>3.077</td>\n",
              "      <td>3167.26</td>\n",
              "      <td>5926.48</td>\n",
              "      <td>0.54</td>\n",
              "      <td>191.84</td>\n",
              "      <td>1415.69</td>\n",
              "      <td>196.733052</td>\n",
              "      <td>8.256</td>\n",
              "      <td>False</td>\n",
              "      <td>91</td>\n",
              "      <td>15316.53</td>\n",
              "      <td>B</td>\n",
              "      <td>70713</td>\n",
              "    </tr>\n",
              "    <tr>\n",
              "      <th>65618</th>\n",
              "      <td>7</td>\n",
              "      <td>13/01/2012</td>\n",
              "      <td>7.46</td>\n",
              "      <td>3.077</td>\n",
              "      <td>3167.26</td>\n",
              "      <td>5926.48</td>\n",
              "      <td>0.54</td>\n",
              "      <td>191.84</td>\n",
              "      <td>1415.69</td>\n",
              "      <td>196.733052</td>\n",
              "      <td>8.256</td>\n",
              "      <td>False</td>\n",
              "      <td>92</td>\n",
              "      <td>34372.75</td>\n",
              "      <td>B</td>\n",
              "      <td>70713</td>\n",
              "    </tr>\n",
              "    <tr>\n",
              "      <th>65619</th>\n",
              "      <td>7</td>\n",
              "      <td>13/01/2012</td>\n",
              "      <td>7.46</td>\n",
              "      <td>3.077</td>\n",
              "      <td>3167.26</td>\n",
              "      <td>5926.48</td>\n",
              "      <td>0.54</td>\n",
              "      <td>191.84</td>\n",
              "      <td>1415.69</td>\n",
              "      <td>196.733052</td>\n",
              "      <td>8.256</td>\n",
              "      <td>False</td>\n",
              "      <td>93</td>\n",
              "      <td>2317.76</td>\n",
              "      <td>B</td>\n",
              "      <td>70713</td>\n",
              "    </tr>\n",
              "    <tr>\n",
              "      <th>65620</th>\n",
              "      <td>7</td>\n",
              "      <td>13/01/2012</td>\n",
              "      <td>7.46</td>\n",
              "      <td>3.077</td>\n",
              "      <td>3167.26</td>\n",
              "      <td>5926.48</td>\n",
              "      <td>0.54</td>\n",
              "      <td>191.84</td>\n",
              "      <td>1415.69</td>\n",
              "      <td>196.733052</td>\n",
              "      <td>8.256</td>\n",
              "      <td>False</td>\n",
              "      <td>94</td>\n",
              "      <td>42.66</td>\n",
              "      <td>B</td>\n",
              "      <td>70713</td>\n",
              "    </tr>\n",
              "  </tbody>\n",
              "</table>\n",
              "<p>131 rows × 16 columns</p>\n",
              "</div>\n",
              "    <div class=\"colab-df-buttons\">\n",
              "\n",
              "  <div class=\"colab-df-container\">\n",
              "    <button class=\"colab-df-convert\" onclick=\"convertToInteractive('df-9e58ae73-a95f-46ae-a6ab-ce4c4f6dba0b')\"\n",
              "            title=\"Convert this dataframe to an interactive table.\"\n",
              "            style=\"display:none;\">\n",
              "\n",
              "  <svg xmlns=\"http://www.w3.org/2000/svg\" height=\"24px\" viewBox=\"0 -960 960 960\">\n",
              "    <path d=\"M120-120v-720h720v720H120Zm60-500h600v-160H180v160Zm220 220h160v-160H400v160Zm0 220h160v-160H400v160ZM180-400h160v-160H180v160Zm440 0h160v-160H620v160ZM180-180h160v-160H180v160Zm440 0h160v-160H620v160Z\"/>\n",
              "  </svg>\n",
              "    </button>\n",
              "\n",
              "  <style>\n",
              "    .colab-df-container {\n",
              "      display:flex;\n",
              "      gap: 12px;\n",
              "    }\n",
              "\n",
              "    .colab-df-convert {\n",
              "      background-color: #E8F0FE;\n",
              "      border: none;\n",
              "      border-radius: 50%;\n",
              "      cursor: pointer;\n",
              "      display: none;\n",
              "      fill: #1967D2;\n",
              "      height: 32px;\n",
              "      padding: 0 0 0 0;\n",
              "      width: 32px;\n",
              "    }\n",
              "\n",
              "    .colab-df-convert:hover {\n",
              "      background-color: #E2EBFA;\n",
              "      box-shadow: 0px 1px 2px rgba(60, 64, 67, 0.3), 0px 1px 3px 1px rgba(60, 64, 67, 0.15);\n",
              "      fill: #174EA6;\n",
              "    }\n",
              "\n",
              "    .colab-df-buttons div {\n",
              "      margin-bottom: 4px;\n",
              "    }\n",
              "\n",
              "    [theme=dark] .colab-df-convert {\n",
              "      background-color: #3B4455;\n",
              "      fill: #D2E3FC;\n",
              "    }\n",
              "\n",
              "    [theme=dark] .colab-df-convert:hover {\n",
              "      background-color: #434B5C;\n",
              "      box-shadow: 0px 1px 3px 1px rgba(0, 0, 0, 0.15);\n",
              "      filter: drop-shadow(0px 1px 2px rgba(0, 0, 0, 0.3));\n",
              "      fill: #FFFFFF;\n",
              "    }\n",
              "  </style>\n",
              "\n",
              "    <script>\n",
              "      const buttonEl =\n",
              "        document.querySelector('#df-9e58ae73-a95f-46ae-a6ab-ce4c4f6dba0b button.colab-df-convert');\n",
              "      buttonEl.style.display =\n",
              "        google.colab.kernel.accessAllowed ? 'block' : 'none';\n",
              "\n",
              "      async function convertToInteractive(key) {\n",
              "        const element = document.querySelector('#df-9e58ae73-a95f-46ae-a6ab-ce4c4f6dba0b');\n",
              "        const dataTable =\n",
              "          await google.colab.kernel.invokeFunction('convertToInteractive',\n",
              "                                                    [key], {});\n",
              "        if (!dataTable) return;\n",
              "\n",
              "        const docLinkHtml = 'Like what you see? Visit the ' +\n",
              "          '<a target=\"_blank\" href=https://colab.research.google.com/notebooks/data_table.ipynb>data table notebook</a>'\n",
              "          + ' to learn more about interactive tables.';\n",
              "        element.innerHTML = '';\n",
              "        dataTable['output_type'] = 'display_data';\n",
              "        await google.colab.output.renderOutput(dataTable, element);\n",
              "        const docLink = document.createElement('div');\n",
              "        docLink.innerHTML = docLinkHtml;\n",
              "        element.appendChild(docLink);\n",
              "      }\n",
              "    </script>\n",
              "  </div>\n",
              "\n",
              "\n",
              "<div id=\"df-2fc20059-2e0f-43bc-b0d1-009c055935f4\">\n",
              "  <button class=\"colab-df-quickchart\" onclick=\"quickchart('df-2fc20059-2e0f-43bc-b0d1-009c055935f4')\"\n",
              "            title=\"Suggest charts\"\n",
              "            style=\"display:none;\">\n",
              "\n",
              "<svg xmlns=\"http://www.w3.org/2000/svg\" height=\"24px\"viewBox=\"0 0 24 24\"\n",
              "     width=\"24px\">\n",
              "    <g>\n",
              "        <path d=\"M19 3H5c-1.1 0-2 .9-2 2v14c0 1.1.9 2 2 2h14c1.1 0 2-.9 2-2V5c0-1.1-.9-2-2-2zM9 17H7v-7h2v7zm4 0h-2V7h2v10zm4 0h-2v-4h2v4z\"/>\n",
              "    </g>\n",
              "</svg>\n",
              "  </button>\n",
              "\n",
              "<style>\n",
              "  .colab-df-quickchart {\n",
              "      --bg-color: #E8F0FE;\n",
              "      --fill-color: #1967D2;\n",
              "      --hover-bg-color: #E2EBFA;\n",
              "      --hover-fill-color: #174EA6;\n",
              "      --disabled-fill-color: #AAA;\n",
              "      --disabled-bg-color: #DDD;\n",
              "  }\n",
              "\n",
              "  [theme=dark] .colab-df-quickchart {\n",
              "      --bg-color: #3B4455;\n",
              "      --fill-color: #D2E3FC;\n",
              "      --hover-bg-color: #434B5C;\n",
              "      --hover-fill-color: #FFFFFF;\n",
              "      --disabled-bg-color: #3B4455;\n",
              "      --disabled-fill-color: #666;\n",
              "  }\n",
              "\n",
              "  .colab-df-quickchart {\n",
              "    background-color: var(--bg-color);\n",
              "    border: none;\n",
              "    border-radius: 50%;\n",
              "    cursor: pointer;\n",
              "    display: none;\n",
              "    fill: var(--fill-color);\n",
              "    height: 32px;\n",
              "    padding: 0;\n",
              "    width: 32px;\n",
              "  }\n",
              "\n",
              "  .colab-df-quickchart:hover {\n",
              "    background-color: var(--hover-bg-color);\n",
              "    box-shadow: 0 1px 2px rgba(60, 64, 67, 0.3), 0 1px 3px 1px rgba(60, 64, 67, 0.15);\n",
              "    fill: var(--button-hover-fill-color);\n",
              "  }\n",
              "\n",
              "  .colab-df-quickchart-complete:disabled,\n",
              "  .colab-df-quickchart-complete:disabled:hover {\n",
              "    background-color: var(--disabled-bg-color);\n",
              "    fill: var(--disabled-fill-color);\n",
              "    box-shadow: none;\n",
              "  }\n",
              "\n",
              "  .colab-df-spinner {\n",
              "    border: 2px solid var(--fill-color);\n",
              "    border-color: transparent;\n",
              "    border-bottom-color: var(--fill-color);\n",
              "    animation:\n",
              "      spin 1s steps(1) infinite;\n",
              "  }\n",
              "\n",
              "  @keyframes spin {\n",
              "    0% {\n",
              "      border-color: transparent;\n",
              "      border-bottom-color: var(--fill-color);\n",
              "      border-left-color: var(--fill-color);\n",
              "    }\n",
              "    20% {\n",
              "      border-color: transparent;\n",
              "      border-left-color: var(--fill-color);\n",
              "      border-top-color: var(--fill-color);\n",
              "    }\n",
              "    30% {\n",
              "      border-color: transparent;\n",
              "      border-left-color: var(--fill-color);\n",
              "      border-top-color: var(--fill-color);\n",
              "      border-right-color: var(--fill-color);\n",
              "    }\n",
              "    40% {\n",
              "      border-color: transparent;\n",
              "      border-right-color: var(--fill-color);\n",
              "      border-top-color: var(--fill-color);\n",
              "    }\n",
              "    60% {\n",
              "      border-color: transparent;\n",
              "      border-right-color: var(--fill-color);\n",
              "    }\n",
              "    80% {\n",
              "      border-color: transparent;\n",
              "      border-right-color: var(--fill-color);\n",
              "      border-bottom-color: var(--fill-color);\n",
              "    }\n",
              "    90% {\n",
              "      border-color: transparent;\n",
              "      border-bottom-color: var(--fill-color);\n",
              "    }\n",
              "  }\n",
              "</style>\n",
              "\n",
              "  <script>\n",
              "    async function quickchart(key) {\n",
              "      const quickchartButtonEl =\n",
              "        document.querySelector('#' + key + ' button');\n",
              "      quickchartButtonEl.disabled = true;  // To prevent multiple clicks.\n",
              "      quickchartButtonEl.classList.add('colab-df-spinner');\n",
              "      try {\n",
              "        const charts = await google.colab.kernel.invokeFunction(\n",
              "            'suggestCharts', [key], {});\n",
              "      } catch (error) {\n",
              "        console.error('Error during call to suggestCharts:', error);\n",
              "      }\n",
              "      quickchartButtonEl.classList.remove('colab-df-spinner');\n",
              "      quickchartButtonEl.classList.add('colab-df-quickchart-complete');\n",
              "    }\n",
              "    (() => {\n",
              "      let quickchartButtonEl =\n",
              "        document.querySelector('#df-2fc20059-2e0f-43bc-b0d1-009c055935f4 button');\n",
              "      quickchartButtonEl.style.display =\n",
              "        google.colab.kernel.accessAllowed ? 'block' : 'none';\n",
              "    })();\n",
              "  </script>\n",
              "</div>\n",
              "\n",
              "    </div>\n",
              "  </div>\n"
            ],
            "application/vnd.google.colaboratory.intrinsic+json": {
              "type": "dataframe",
              "summary": "{\n  \"name\": \"stores_data\",\n  \"rows\": 131,\n  \"fields\": [\n    {\n      \"column\": \"Store\",\n      \"properties\": {\n        \"dtype\": \"number\",\n        \"std\": 0,\n        \"min\": 7,\n        \"max\": 7,\n        \"num_unique_values\": 1,\n        \"samples\": [\n          7\n        ],\n        \"semantic_type\": \"\",\n        \"description\": \"\"\n      }\n    },\n    {\n      \"column\": \"Date\",\n      \"properties\": {\n        \"dtype\": \"category\",\n        \"num_unique_values\": 2,\n        \"samples\": [\n          \"13/01/2012\"\n        ],\n        \"semantic_type\": \"\",\n        \"description\": \"\"\n      }\n    },\n    {\n      \"column\": \"Temperature\",\n      \"properties\": {\n        \"dtype\": \"number\",\n        \"std\": 4.778133398998604,\n        \"min\": -2.06,\n        \"max\": 7.46,\n        \"num_unique_values\": 2,\n        \"samples\": [\n          7.46\n        ],\n        \"semantic_type\": \"\",\n        \"description\": \"\"\n      }\n    },\n    {\n      \"column\": \"Fuel_Price\",\n      \"properties\": {\n        \"dtype\": \"number\",\n        \"std\": 0.03312571474095663,\n        \"min\": 3.011,\n        \"max\": 3.077,\n        \"num_unique_values\": 2,\n        \"samples\": [\n          3.077\n        ],\n        \"semantic_type\": \"\",\n        \"description\": \"\"\n      }\n    },\n    {\n      \"column\": \"MarkDown1\",\n      \"properties\": {\n        \"dtype\": \"number\",\n        \"std\": 0.0,\n        \"min\": 3167.26,\n        \"max\": 3167.26,\n        \"num_unique_values\": 1,\n        \"samples\": [\n          3167.26\n        ],\n        \"semantic_type\": \"\",\n        \"description\": \"\"\n      }\n    },\n    {\n      \"column\": \"MarkDown2\",\n      \"properties\": {\n        \"dtype\": \"number\",\n        \"std\": 0.0,\n        \"min\": 5926.48,\n        \"max\": 5926.48,\n        \"num_unique_values\": 1,\n        \"samples\": [\n          5926.48\n        ],\n        \"semantic_type\": \"\",\n        \"description\": \"\"\n      }\n    },\n    {\n      \"column\": \"MarkDown3\",\n      \"properties\": {\n        \"dtype\": \"number\",\n        \"std\": 0.0,\n        \"min\": 0.54,\n        \"max\": 0.54,\n        \"num_unique_values\": 1,\n        \"samples\": [\n          0.54\n        ],\n        \"semantic_type\": \"\",\n        \"description\": \"\"\n      }\n    },\n    {\n      \"column\": \"MarkDown4\",\n      \"properties\": {\n        \"dtype\": \"number\",\n        \"std\": 2.864289338439558e-14,\n        \"min\": 191.84,\n        \"max\": 191.84,\n        \"num_unique_values\": 1,\n        \"samples\": [\n          191.84\n        ],\n        \"semantic_type\": \"\",\n        \"description\": \"\"\n      }\n    },\n    {\n      \"column\": \"MarkDown5\",\n      \"properties\": {\n        \"dtype\": \"number\",\n        \"std\": 4.582862941503293e-13,\n        \"min\": 1415.69,\n        \"max\": 1415.69,\n        \"num_unique_values\": 1,\n        \"samples\": [\n          1415.69\n        ],\n        \"semantic_type\": \"\",\n        \"description\": \"\"\n      }\n    },\n    {\n      \"column\": \"CPI\",\n      \"properties\": {\n        \"dtype\": \"number\",\n        \"std\": 2.4946986813319483,\n        \"min\": 191.7625895,\n        \"max\": 196.7330517,\n        \"num_unique_values\": 2,\n        \"samples\": [\n          196.7330517\n        ],\n        \"semantic_type\": \"\",\n        \"description\": \"\"\n      }\n    },\n    {\n      \"column\": \"Unemployment\",\n      \"properties\": {\n        \"dtype\": \"number\",\n        \"std\": 0.2820704800669341,\n        \"min\": 8.256,\n        \"max\": 8.818,\n        \"num_unique_values\": 2,\n        \"samples\": [\n          8.256\n        ],\n        \"semantic_type\": \"\",\n        \"description\": \"\"\n      }\n    },\n    {\n      \"column\": \"IsHoliday\",\n      \"properties\": {\n        \"dtype\": \"category\",\n        \"num_unique_values\": 1,\n        \"samples\": [\n          false\n        ],\n        \"semantic_type\": \"\",\n        \"description\": \"\"\n      }\n    },\n    {\n      \"column\": \"Dept\",\n      \"properties\": {\n        \"dtype\": \"number\",\n        \"std\": 28,\n        \"min\": 1,\n        \"max\": 95,\n        \"num_unique_values\": 68,\n        \"samples\": [\n          58\n        ],\n        \"semantic_type\": \"\",\n        \"description\": \"\"\n      }\n    },\n    {\n      \"column\": \"Weekly_Sales\",\n      \"properties\": {\n        \"dtype\": \"number\",\n        \"std\": 10726.003566178058,\n        \"min\": -15.0,\n        \"max\": 55889.72,\n        \"num_unique_values\": 130,\n        \"samples\": [\n          9686.18\n        ],\n        \"semantic_type\": \"\",\n        \"description\": \"\"\n      }\n    },\n    {\n      \"column\": \"Type\",\n      \"properties\": {\n        \"dtype\": \"category\",\n        \"num_unique_values\": 1,\n        \"samples\": [\n          \"B\"\n        ],\n        \"semantic_type\": \"\",\n        \"description\": \"\"\n      }\n    },\n    {\n      \"column\": \"Size\",\n      \"properties\": {\n        \"dtype\": \"number\",\n        \"std\": 0,\n        \"min\": 70713,\n        \"max\": 70713,\n        \"num_unique_values\": 1,\n        \"samples\": [\n          70713\n        ],\n        \"semantic_type\": \"\",\n        \"description\": \"\"\n      }\n    }\n  ]\n}"
            }
          },
          "metadata": {},
          "execution_count": 29
        }
      ]
    },
    {
      "cell_type": "code",
      "source": [
        "# since there are values below the lower threshold (only 7 vlalues hence impute)\n",
        "stores_data.Temperature = stores_data.Temperature.clip(lower_threshold, upper_threshold)"
      ],
      "metadata": {
        "id": "lq_QLSUyC7QL"
      },
      "execution_count": 30,
      "outputs": []
    },
    {
      "cell_type": "code",
      "source": [
        "stores_data.Temperature.describe()"
      ],
      "metadata": {
        "id": "WbqIhklTDWvq",
        "colab": {
          "base_uri": "https://localhost:8080/"
        },
        "outputId": "cb06dc6a-77a5-4340-c766-284c7a9907d1"
      },
      "execution_count": 31,
      "outputs": [
        {
          "output_type": "execute_result",
          "data": {
            "text/plain": [
              "count    68266.000000\n",
              "mean        64.167657\n",
              "std         17.896557\n",
              "min          8.955000\n",
              "25%         51.450000\n",
              "50%         66.830000\n",
              "75%         79.780000\n",
              "max         93.340000\n",
              "Name: Temperature, dtype: float64"
            ]
          },
          "metadata": {},
          "execution_count": 31
        }
      ]
    },
    {
      "cell_type": "markdown",
      "source": [
        "###Fuel_Price"
      ],
      "metadata": {
        "id": "hUrQP8YDDdE5"
      }
    },
    {
      "cell_type": "code",
      "source": [
        "stores_data.Fuel_Price.isnull().sum()"
      ],
      "metadata": {
        "id": "h3lZCWd0DbQJ",
        "colab": {
          "base_uri": "https://localhost:8080/"
        },
        "outputId": "346ff6fb-b9dd-42ad-d9e3-1d295ba72bc6"
      },
      "execution_count": 32,
      "outputs": [
        {
          "output_type": "execute_result",
          "data": {
            "text/plain": [
              "0"
            ]
          },
          "metadata": {},
          "execution_count": 32
        }
      ]
    },
    {
      "cell_type": "code",
      "source": [
        "stores_data.Fuel_Price.describe()"
      ],
      "metadata": {
        "id": "C1Of8qMWDwVk",
        "colab": {
          "base_uri": "https://localhost:8080/"
        },
        "outputId": "a47db2d5-451c-4320-e99c-d11f342bf06f"
      },
      "execution_count": 33,
      "outputs": [
        {
          "output_type": "execute_result",
          "data": {
            "text/plain": [
              "count    68266.000000\n",
              "mean         3.221776\n",
              "std          0.424521\n",
              "min          2.514000\n",
              "25%          2.762000\n",
              "50%          3.290000\n",
              "75%          3.594000\n",
              "max          3.936000\n",
              "Name: Fuel_Price, dtype: float64"
            ]
          },
          "metadata": {},
          "execution_count": 33
        }
      ]
    },
    {
      "cell_type": "code",
      "source": [
        "q3 = stores_data.Fuel_Price.quantile(.75)\n",
        "q1 = stores_data.Fuel_Price.quantile(.25)\n",
        "iqr = q3 - q1\n",
        "\n",
        "upper_threshold = q3 + (1.5 * iqr)\n",
        "lower_threshold = q1 - (1.5 * iqr)\n",
        "\n",
        "lower_threshold,upper_threshold #hence no outliers"
      ],
      "metadata": {
        "id": "hE1FtOe49l1u",
        "colab": {
          "base_uri": "https://localhost:8080/"
        },
        "outputId": "9f7eb2f7-37d5-4edb-d7dd-e7eef4694456"
      },
      "execution_count": 34,
      "outputs": [
        {
          "output_type": "execute_result",
          "data": {
            "text/plain": [
              "(1.5140000000000002, 4.842)"
            ]
          },
          "metadata": {},
          "execution_count": 34
        }
      ]
    },
    {
      "cell_type": "code",
      "source": [
        "##from google.colab import drive\n",
        "#drive.mount('/content/drive')"
      ],
      "metadata": {
        "id": "u5od_w4z76Sb"
      },
      "execution_count": 35,
      "outputs": []
    },
    {
      "cell_type": "markdown",
      "source": [
        "hence no outliers"
      ],
      "metadata": {
        "id": "Wg3kmZ4W97kv"
      }
    },
    {
      "cell_type": "markdown",
      "source": [
        "###MarkDown1"
      ],
      "metadata": {
        "id": "MdhD11OW8arX"
      }
    },
    {
      "cell_type": "code",
      "source": [
        "stores_data.MarkDown1.isnull().sum()"
      ],
      "metadata": {
        "colab": {
          "base_uri": "https://localhost:8080/"
        },
        "id": "VzeTlIFX8dd5",
        "outputId": "72e867db-da83-46c3-9125-8deba4a5c48c"
      },
      "execution_count": 36,
      "outputs": [
        {
          "output_type": "execute_result",
          "data": {
            "text/plain": [
              "43849"
            ]
          },
          "metadata": {},
          "execution_count": 36
        }
      ]
    },
    {
      "cell_type": "code",
      "source": [
        "stores_data.MarkDown1.dtype"
      ],
      "metadata": {
        "colab": {
          "base_uri": "https://localhost:8080/"
        },
        "id": "qgwfDK6V9Mx6",
        "outputId": "f4574cf1-2a1c-4430-ccc9-605c350d41d5"
      },
      "execution_count": 37,
      "outputs": [
        {
          "output_type": "execute_result",
          "data": {
            "text/plain": [
              "dtype('float64')"
            ]
          },
          "metadata": {},
          "execution_count": 37
        }
      ]
    },
    {
      "cell_type": "code",
      "source": [
        "stores_data.MarkDown1.value_counts()"
      ],
      "metadata": {
        "colab": {
          "base_uri": "https://localhost:8080/"
        },
        "id": "fInD7MJa9VXL",
        "outputId": "ec48fcfd-e582-414b-92c4-d0a5fd11765c"
      },
      "execution_count": 38,
      "outputs": [
        {
          "output_type": "execute_result",
          "data": {
            "text/plain": [
              "MarkDown1\n",
              "561.45      74\n",
              "429.03      74\n",
              "2971.04     74\n",
              "2725.36     74\n",
              "12635.19    74\n",
              "            ..\n",
              "2592.37     61\n",
              "2297.32     61\n",
              "2696.67     61\n",
              "1649.56     60\n",
              "2046.93     60\n",
              "Name: count, Length: 357, dtype: int64"
            ]
          },
          "metadata": {},
          "execution_count": 38
        }
      ]
    },
    {
      "cell_type": "code",
      "source": [
        "stores_data.MarkDown1.fillna(0, inplace = True)\n",
        "stores_data.MarkDown2.fillna(0, inplace = True)\n",
        "stores_data.MarkDown3.fillna(0, inplace = True)\n",
        "stores_data.MarkDown4.fillna(0, inplace = True)\n",
        "stores_data.MarkDown5.fillna(0, inplace = True)"
      ],
      "metadata": {
        "id": "jyqNKfwA9meR"
      },
      "execution_count": 39,
      "outputs": []
    },
    {
      "cell_type": "markdown",
      "source": [
        "###CPI"
      ],
      "metadata": {
        "id": "1KOhYiy_-xaq"
      }
    },
    {
      "cell_type": "code",
      "source": [
        "stores_data.CPI.dtype"
      ],
      "metadata": {
        "colab": {
          "base_uri": "https://localhost:8080/"
        },
        "id": "NZzZ0xsf-y04",
        "outputId": "f76b2b09-3082-48c2-9f76-5ed5ebbc59c6"
      },
      "execution_count": 40,
      "outputs": [
        {
          "output_type": "execute_result",
          "data": {
            "text/plain": [
              "dtype('float64')"
            ]
          },
          "metadata": {},
          "execution_count": 40
        }
      ]
    },
    {
      "cell_type": "code",
      "source": [
        "stores_data.CPI.value_counts()"
      ],
      "metadata": {
        "colab": {
          "base_uri": "https://localhost:8080/"
        },
        "id": "X2U_9VU8ADOP",
        "outputId": "03c4348a-c722-4f5a-cdf7-cacb51ca7e87"
      },
      "execution_count": 41,
      "outputs": [
        {
          "output_type": "execute_result",
          "data": {
            "text/plain": [
              "CPI\n",
              "126.496258    75\n",
              "220.041741    74\n",
              "126.606645    74\n",
              "221.864499    74\n",
              "126.471333    74\n",
              "              ..\n",
              "193.711525    60\n",
              "210.989120    60\n",
              "222.390005    60\n",
              "214.973044    60\n",
              "218.546705    60\n",
              "Name: count, Length: 1001, dtype: int64"
            ]
          },
          "metadata": {},
          "execution_count": 41
        }
      ]
    },
    {
      "cell_type": "code",
      "source": [
        "stores_data.CPI.describe()"
      ],
      "metadata": {
        "colab": {
          "base_uri": "https://localhost:8080/"
        },
        "id": "L-jtHUkZAZ13",
        "outputId": "226fd88d-2346-42c2-fc83-92f339b920f8"
      },
      "execution_count": 42,
      "outputs": [
        {
          "output_type": "execute_result",
          "data": {
            "text/plain": [
              "count    68266.000000\n",
              "mean       200.534751\n",
              "std         31.517808\n",
              "min        126.064000\n",
              "25%        196.872892\n",
              "50%        213.382049\n",
              "75%        219.195983\n",
              "max        226.987364\n",
              "Name: CPI, dtype: float64"
            ]
          },
          "metadata": {},
          "execution_count": 42
        }
      ]
    },
    {
      "cell_type": "code",
      "source": [
        "q3 = stores_data.CPI.quantile(.75)\n",
        "q1 = stores_data.CPI.quantile(.25)\n",
        "iqr = q3 - q1\n",
        "\n",
        "upper_threshold = q3 + (1.5 * iqr)\n",
        "lower_threshold = q1 - (1.5 * iqr)\n",
        "\n",
        "lower_threshold,upper_threshold #hence no outliers"
      ],
      "metadata": {
        "colab": {
          "base_uri": "https://localhost:8080/"
        },
        "id": "M55PiF1MAfdq",
        "outputId": "539a6bef-ea20-4607-cb05-8e316685878a"
      },
      "execution_count": 43,
      "outputs": [
        {
          "output_type": "execute_result",
          "data": {
            "text/plain": [
              "(163.3882562, 252.6806186)"
            ]
          },
          "metadata": {},
          "execution_count": 43
        }
      ]
    },
    {
      "cell_type": "code",
      "source": [
        "stores_data.CPI.loc[stores_data.CPI < lower_threshold].value_counts().sum()"
      ],
      "metadata": {
        "colab": {
          "base_uri": "https://localhost:8080/"
        },
        "id": "tEzv-FnCAnmn",
        "outputId": "5b555b1d-5256-4104-8e98-c59ee211f0f6"
      },
      "execution_count": 44,
      "outputs": [
        {
          "output_type": "execute_result",
          "data": {
            "text/plain": [
              "10272"
            ]
          },
          "metadata": {},
          "execution_count": 44
        }
      ]
    },
    {
      "cell_type": "markdown",
      "source": [
        "###Unemployment"
      ],
      "metadata": {
        "id": "4jaqGaqoBcOv"
      }
    },
    {
      "cell_type": "code",
      "source": [
        "stores_data.Unemployment.dtype"
      ],
      "metadata": {
        "colab": {
          "base_uri": "https://localhost:8080/"
        },
        "id": "bDaK53AgBAYm",
        "outputId": "e0938cf5-d7fd-4aee-b0ca-b9eb629af7ee"
      },
      "execution_count": 45,
      "outputs": [
        {
          "output_type": "execute_result",
          "data": {
            "text/plain": [
              "dtype('float64')"
            ]
          },
          "metadata": {},
          "execution_count": 45
        }
      ]
    },
    {
      "cell_type": "markdown",
      "source": [
        "###IsHoliday"
      ],
      "metadata": {
        "id": "x-G2TlMOBx5Z"
      }
    },
    {
      "cell_type": "code",
      "source": [
        "stores_data.IsHoliday.dtype"
      ],
      "metadata": {
        "colab": {
          "base_uri": "https://localhost:8080/"
        },
        "id": "axs7R7zzBiZu",
        "outputId": "1a6a4e71-50b7-41f6-add2-a96d8dba90b6"
      },
      "execution_count": 46,
      "outputs": [
        {
          "output_type": "execute_result",
          "data": {
            "text/plain": [
              "dtype('O')"
            ]
          },
          "metadata": {},
          "execution_count": 46
        }
      ]
    },
    {
      "cell_type": "code",
      "source": [
        "stores_data.IsHoliday = stores_data.IsHoliday.astype('bool')"
      ],
      "metadata": {
        "id": "yBRKVivzB4zg"
      },
      "execution_count": 47,
      "outputs": []
    },
    {
      "cell_type": "code",
      "source": [
        "stores_data.IsHoliday.dtype"
      ],
      "metadata": {
        "colab": {
          "base_uri": "https://localhost:8080/"
        },
        "id": "oih8pwWyCVF3",
        "outputId": "d8b34a70-4ae6-4587-c198-890363a294a2"
      },
      "execution_count": 48,
      "outputs": [
        {
          "output_type": "execute_result",
          "data": {
            "text/plain": [
              "dtype('bool')"
            ]
          },
          "metadata": {},
          "execution_count": 48
        }
      ]
    },
    {
      "cell_type": "markdown",
      "source": [
        "###Dept                "
      ],
      "metadata": {
        "id": "-Enkp800C0SZ"
      }
    },
    {
      "cell_type": "code",
      "source": [
        "stores_data.Dept.dtype"
      ],
      "metadata": {
        "colab": {
          "base_uri": "https://localhost:8080/"
        },
        "id": "_3jKxya3Cr2x",
        "outputId": "06e1065b-04e6-4273-928b-c1965ac6b48e"
      },
      "execution_count": 49,
      "outputs": [
        {
          "output_type": "execute_result",
          "data": {
            "text/plain": [
              "dtype('int64')"
            ]
          },
          "metadata": {},
          "execution_count": 49
        }
      ]
    },
    {
      "cell_type": "code",
      "source": [
        "stores_data.Dept.nunique()"
      ],
      "metadata": {
        "colab": {
          "base_uri": "https://localhost:8080/"
        },
        "id": "twzHmROsC9bw",
        "outputId": "56b72a06-c22a-4176-ce43-f495ca67340a"
      },
      "execution_count": 62,
      "outputs": [
        {
          "output_type": "execute_result",
          "data": {
            "text/plain": [
              "78"
            ]
          },
          "metadata": {},
          "execution_count": 62
        }
      ]
    },
    {
      "cell_type": "markdown",
      "source": [
        "###Weekly_Sales"
      ],
      "metadata": {
        "id": "pqGab8H6DPXn"
      }
    },
    {
      "cell_type": "code",
      "source": [
        "stores_data.Weekly_Sales.dtype"
      ],
      "metadata": {
        "colab": {
          "base_uri": "https://localhost:8080/"
        },
        "id": "DNNevRyFDRIn",
        "outputId": "b55c9aa1-357a-4051-fddf-9b0027634471"
      },
      "execution_count": 51,
      "outputs": [
        {
          "output_type": "execute_result",
          "data": {
            "text/plain": [
              "dtype('float64')"
            ]
          },
          "metadata": {},
          "execution_count": 51
        }
      ]
    },
    {
      "cell_type": "markdown",
      "source": [
        "###Type"
      ],
      "metadata": {
        "id": "748tl3omDzLJ"
      }
    },
    {
      "cell_type": "code",
      "source": [
        "stores_data.Type.dtype"
      ],
      "metadata": {
        "colab": {
          "base_uri": "https://localhost:8080/"
        },
        "id": "3lWCGs27DcWu",
        "outputId": "0b34a9d7-3312-4da5-8df2-9917a4ef862a"
      },
      "execution_count": 52,
      "outputs": [
        {
          "output_type": "execute_result",
          "data": {
            "text/plain": [
              "dtype('O')"
            ]
          },
          "metadata": {},
          "execution_count": 52
        }
      ]
    },
    {
      "cell_type": "code",
      "source": [
        "stores_data.Type = stores_data.Type.astype('category')"
      ],
      "metadata": {
        "id": "puZsCvqQD_JR"
      },
      "execution_count": 53,
      "outputs": []
    },
    {
      "cell_type": "code",
      "source": [
        "stores_data.Type.unique()"
      ],
      "metadata": {
        "colab": {
          "base_uri": "https://localhost:8080/"
        },
        "id": "k3zPnIlz4MJy",
        "outputId": "39f55341-1e85-4b34-dc29-72cc699c4f4c"
      },
      "execution_count": 57,
      "outputs": [
        {
          "output_type": "execute_result",
          "data": {
            "text/plain": [
              "['A', 'B']\n",
              "Categories (2, object): ['A', 'B']"
            ]
          },
          "metadata": {},
          "execution_count": 57
        }
      ]
    },
    {
      "cell_type": "markdown",
      "source": [
        "###Size"
      ],
      "metadata": {
        "id": "26djPA9fDL0a"
      }
    },
    {
      "cell_type": "markdown",
      "source": [
        "#DATA VISUALISATION"
      ],
      "metadata": {
        "id": "1y8E0EYQz_8G"
      }
    },
    {
      "cell_type": "code",
      "source": [
        "import matplotlib.pyplot as plt\n",
        "import seaborn as sns"
      ],
      "metadata": {
        "id": "9Kvaih630ZBO"
      },
      "execution_count": 54,
      "outputs": []
    },
    {
      "cell_type": "code",
      "source": [
        "# Dependent - Weekly_Sales\n",
        "# Supervised Regression\n",
        "\n",
        "continuous_columns = ['Size', 'Weekly_Sales', 'Temperature', 'Fuel_Price', 'MarkDown1', 'MarkDown2', 'MarkDown3',\n",
        "                      'MarkDown4', 'MarkDown5', 'CPI', 'Unemployment']\n",
        "category_columns = [\"Store\",  \"Type\",   \"IsHoliday\", \"Dept\"]\n",
        "\n",
        "#string_columns = stores_data.select_dtypes(exclude=['int64',\"float64\",\"datetime64\"]).columns\n",
        "#numeric_columns = stores_data.select_dtypes(include=['int64',\"float64\"]).columns"
      ],
      "metadata": {
        "id": "B_caWcuZ0i4Z"
      },
      "execution_count": null,
      "outputs": []
    },
    {
      "cell_type": "markdown",
      "source": [
        "###catogorical columns"
      ],
      "metadata": {
        "id": "IR_be1Il5ab_"
      }
    },
    {
      "cell_type": "code",
      "source": [
        "#plotting count plots for all the categorical columns\n",
        "sns.set_theme(style='darkgrid',palette='pastel')\n",
        "\n",
        "plt.figure(figsize=(20,25))\n",
        "\n",
        "plt.subplot(431)\n",
        "sns.countplot(stores_data['Store'],order=stores_data['Store'].value_counts().index[::-1])\n",
        "plt.xticks(rotation=15)\n",
        "plt.xlabel('Store')\n",
        "plt.ylabel('Count')\n",
        "plt.title('Store Name')\n",
        "\n",
        "plt.subplot(432)\n",
        "sns.countplot(stores_data['Type'],order=stores_data['Type'].value_counts().index[::-1])\n",
        "plt.xticks(rotation=15)\n",
        "plt.xlabel('Type')\n",
        "plt.ylabel('Count')\n",
        "plt.title('Type of store')\n",
        "\n",
        "plt.subplot(433)\n",
        "sns.countplot(stores_data['IsHoliday'],order=stores_data['IsHoliday'].value_counts().index[::-1])\n",
        "plt.xticks(rotation=15)\n",
        "plt.xlabel('Store Holiday')\n",
        "plt.ylabel('Count')\n",
        "plt.title('HOLIDAY')\n",
        "\n",
        "plt.subplot(434)\n",
        "sns.countplot(stores_data['Dept'],order=stores_data['Dept'].value_counts().index[::-1])\n",
        "plt.xticks(rotation=90)\n",
        "plt.xlabel('Dept')\n",
        "plt.ylabel('Count')\n",
        "plt.title('Department')\n",
        "\n",
        "plt.show()\n",
        "plt.tight_layout()"
      ],
      "metadata": {
        "colab": {
          "base_uri": "https://localhost:8080/",
          "height": 642
        },
        "id": "NWpFkjKW0fjO",
        "outputId": "bf75a464-b874-4c20-8a61-23ec4681d051"
      },
      "execution_count": 65,
      "outputs": [
        {
          "output_type": "display_data",
          "data": {
            "text/plain": [
              "<Figure size 2000x2500 with 4 Axes>"
            ],
            "image/png": "[encoded data removed]"
          },
          "metadata": {}
        },
        {
          "output_type": "display_data",
          "data": {
            "text/plain": [
              "<Figure size 640x480 with 0 Axes>"
            ]
          },
          "metadata": {}
        }
      ]
    },
    {
      "cell_type": "markdown",
      "source": [
        "##interpretations\n",
        "1. type A store are higher"
      ],
      "metadata": {
        "id": "_yOp59144TJH"
      }
    },
    {
      "cell_type": "markdown",
      "source": [
        "###continous columns"
      ],
      "metadata": {
        "id": "oC3xW9KY5fHG"
      }
    },
    {
      "cell_type": "code",
      "source": [],
      "metadata": {
        "id": "d6CuKDOE4fdm"
      },
      "execution_count": null,
      "outputs": []
    }
  ]
}